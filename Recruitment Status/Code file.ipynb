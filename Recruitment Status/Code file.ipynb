{
 "cells": [
  {
   "cell_type": "markdown",
   "id": "a11944fa",
   "metadata": {},
   "source": [
    "## Necesary Imports"
   ]
  },
  {
   "cell_type": "code",
   "execution_count": 1,
   "id": "65cdb85d",
   "metadata": {},
   "outputs": [],
   "source": [
    "import pandas as pd\n",
    "import numpy as np\n",
    "import warnings\n",
    "import matplotlib.pyplot as plt\n",
    "import seaborn as sns"
   ]
  },
  {
   "cell_type": "code",
   "execution_count": 2,
   "id": "f82dfbb5",
   "metadata": {},
   "outputs": [],
   "source": [
    "# To print all rows and columns\n",
    "pd.set_option('display.max_rows',500)\n",
    "pd.set_option('display.max_columns',100)"
   ]
  },
  {
   "cell_type": "code",
   "execution_count": 3,
   "id": "8af446ae",
   "metadata": {},
   "outputs": [],
   "source": [
    "# To ignore warnings\n",
    "warnings.filterwarnings('ignore')"
   ]
  },
  {
   "cell_type": "markdown",
   "id": "b063930a",
   "metadata": {},
   "source": [
    "## Loading Files"
   ]
  },
  {
   "cell_type": "code",
   "execution_count": 6,
   "id": "0ec07976",
   "metadata": {},
   "outputs": [],
   "source": [
    "train_df = pd.read_csv(\"train.csv\",header='infer')"
   ]
  },
  {
   "cell_type": "code",
   "execution_count": 7,
   "id": "28cfb834",
   "metadata": {},
   "outputs": [
    {
     "data": {
      "text/html": [
       "<div>\n",
       "<style scoped>\n",
       "    .dataframe tbody tr th:only-of-type {\n",
       "        vertical-align: middle;\n",
       "    }\n",
       "\n",
       "    .dataframe tbody tr th {\n",
       "        vertical-align: top;\n",
       "    }\n",
       "\n",
       "    .dataframe thead th {\n",
       "        text-align: right;\n",
       "    }\n",
       "</style>\n",
       "<table border=\"1\" class=\"dataframe\">\n",
       "  <thead>\n",
       "    <tr style=\"text-align: right;\">\n",
       "      <th></th>\n",
       "      <th>Interview Id</th>\n",
       "      <th>Candidate Id</th>\n",
       "      <th>Interviewer Id</th>\n",
       "      <th>Profile</th>\n",
       "      <th>S.L.R.C</th>\n",
       "      <th>S.L.R.I</th>\n",
       "      <th>A.T.T</th>\n",
       "      <th>L.M.I</th>\n",
       "      <th>L.M.C</th>\n",
       "      <th>S.R</th>\n",
       "      <th>L.J.T.C</th>\n",
       "      <th>L.J.T.I</th>\n",
       "      <th>N.I.C</th>\n",
       "      <th>N.I.I</th>\n",
       "      <th>S.P.I</th>\n",
       "      <th>S.P.C</th>\n",
       "      <th>L.A.C</th>\n",
       "      <th>L.A.I</th>\n",
       "      <th>Q.A</th>\n",
       "      <th>P.E.I</th>\n",
       "      <th>P.E.C</th>\n",
       "      <th>COMPLIANCE Ratio</th>\n",
       "      <th>Interview duration</th>\n",
       "      <th>Interviewer Intro</th>\n",
       "      <th>Candidate into</th>\n",
       "      <th>Opp to ask</th>\n",
       "      <th>Status</th>\n",
       "    </tr>\n",
       "  </thead>\n",
       "  <tbody>\n",
       "    <tr>\n",
       "      <th>0</th>\n",
       "      <td>6.913030e+11</td>\n",
       "      <td>2.655774e+09</td>\n",
       "      <td>194</td>\n",
       "      <td>Developer</td>\n",
       "      <td>0.98</td>\n",
       "      <td>0.02</td>\n",
       "      <td>53</td>\n",
       "      <td>88</td>\n",
       "      <td>93</td>\n",
       "      <td>32</td>\n",
       "      <td>88</td>\n",
       "      <td>106</td>\n",
       "      <td>41</td>\n",
       "      <td>66</td>\n",
       "      <td>42</td>\n",
       "      <td>47</td>\n",
       "      <td>13</td>\n",
       "      <td>15</td>\n",
       "      <td>6</td>\n",
       "      <td>Neutral</td>\n",
       "      <td>Neutral</td>\n",
       "      <td>98</td>\n",
       "      <td>37</td>\n",
       "      <td>No</td>\n",
       "      <td>Yes</td>\n",
       "      <td>Yes</td>\n",
       "      <td>Consider</td>\n",
       "    </tr>\n",
       "    <tr>\n",
       "      <th>1</th>\n",
       "      <td>9.214326e+11</td>\n",
       "      <td>7.123846e+08</td>\n",
       "      <td>234</td>\n",
       "      <td>Sales</td>\n",
       "      <td>0.67</td>\n",
       "      <td>0.33</td>\n",
       "      <td>51</td>\n",
       "      <td>53</td>\n",
       "      <td>44</td>\n",
       "      <td>36</td>\n",
       "      <td>93</td>\n",
       "      <td>313</td>\n",
       "      <td>28</td>\n",
       "      <td>62</td>\n",
       "      <td>32</td>\n",
       "      <td>52</td>\n",
       "      <td>5</td>\n",
       "      <td>15</td>\n",
       "      <td>4</td>\n",
       "      <td>Neutral</td>\n",
       "      <td>Negative</td>\n",
       "      <td>54</td>\n",
       "      <td>33</td>\n",
       "      <td>No</td>\n",
       "      <td>No</td>\n",
       "      <td>Yes</td>\n",
       "      <td>Consider</td>\n",
       "    </tr>\n",
       "    <tr>\n",
       "      <th>2</th>\n",
       "      <td>4.718839e+10</td>\n",
       "      <td>8.445533e+08</td>\n",
       "      <td>267</td>\n",
       "      <td>Program Manager</td>\n",
       "      <td>0.81</td>\n",
       "      <td>0.19</td>\n",
       "      <td>60</td>\n",
       "      <td>77</td>\n",
       "      <td>75</td>\n",
       "      <td>54</td>\n",
       "      <td>52</td>\n",
       "      <td>67</td>\n",
       "      <td>26</td>\n",
       "      <td>14</td>\n",
       "      <td>57</td>\n",
       "      <td>34</td>\n",
       "      <td>4</td>\n",
       "      <td>7</td>\n",
       "      <td>3</td>\n",
       "      <td>Positive</td>\n",
       "      <td>Positive</td>\n",
       "      <td>31</td>\n",
       "      <td>58</td>\n",
       "      <td>No</td>\n",
       "      <td>Yes</td>\n",
       "      <td>No</td>\n",
       "      <td>Consider</td>\n",
       "    </tr>\n",
       "    <tr>\n",
       "      <th>3</th>\n",
       "      <td>9.943741e+11</td>\n",
       "      <td>6.511106e+09</td>\n",
       "      <td>199</td>\n",
       "      <td>Marketing</td>\n",
       "      <td>0.69</td>\n",
       "      <td>0.31</td>\n",
       "      <td>93</td>\n",
       "      <td>42</td>\n",
       "      <td>103</td>\n",
       "      <td>49</td>\n",
       "      <td>115</td>\n",
       "      <td>166</td>\n",
       "      <td>62</td>\n",
       "      <td>55</td>\n",
       "      <td>65</td>\n",
       "      <td>75</td>\n",
       "      <td>10</td>\n",
       "      <td>10</td>\n",
       "      <td>7</td>\n",
       "      <td>Positive</td>\n",
       "      <td>Negative</td>\n",
       "      <td>24</td>\n",
       "      <td>35</td>\n",
       "      <td>No</td>\n",
       "      <td>Yes</td>\n",
       "      <td>No</td>\n",
       "      <td>Consider</td>\n",
       "    </tr>\n",
       "    <tr>\n",
       "      <th>4</th>\n",
       "      <td>3.509007e+11</td>\n",
       "      <td>3.487001e+09</td>\n",
       "      <td>221</td>\n",
       "      <td>QA Automation</td>\n",
       "      <td>0.57</td>\n",
       "      <td>0.43</td>\n",
       "      <td>44</td>\n",
       "      <td>44</td>\n",
       "      <td>119</td>\n",
       "      <td>66</td>\n",
       "      <td>190</td>\n",
       "      <td>394</td>\n",
       "      <td>7</td>\n",
       "      <td>32</td>\n",
       "      <td>36</td>\n",
       "      <td>74</td>\n",
       "      <td>13</td>\n",
       "      <td>7</td>\n",
       "      <td>3</td>\n",
       "      <td>Negative</td>\n",
       "      <td>Positive</td>\n",
       "      <td>73</td>\n",
       "      <td>60</td>\n",
       "      <td>Yes</td>\n",
       "      <td>Yes</td>\n",
       "      <td>No</td>\n",
       "      <td>Consider</td>\n",
       "    </tr>\n",
       "  </tbody>\n",
       "</table>\n",
       "</div>"
      ],
      "text/plain": [
       "   Interview Id  Candidate Id  Interviewer Id          Profile  S.L.R.C  \\\n",
       "0  6.913030e+11  2.655774e+09             194        Developer     0.98   \n",
       "1  9.214326e+11  7.123846e+08             234            Sales     0.67   \n",
       "2  4.718839e+10  8.445533e+08             267  Program Manager     0.81   \n",
       "3  9.943741e+11  6.511106e+09             199        Marketing     0.69   \n",
       "4  3.509007e+11  3.487001e+09             221    QA Automation     0.57   \n",
       "\n",
       "   S.L.R.I  A.T.T  L.M.I  L.M.C  S.R  L.J.T.C  L.J.T.I  N.I.C  N.I.I  S.P.I  \\\n",
       "0     0.02     53     88     93   32       88      106     41     66     42   \n",
       "1     0.33     51     53     44   36       93      313     28     62     32   \n",
       "2     0.19     60     77     75   54       52       67     26     14     57   \n",
       "3     0.31     93     42    103   49      115      166     62     55     65   \n",
       "4     0.43     44     44    119   66      190      394      7     32     36   \n",
       "\n",
       "   S.P.C  L.A.C  L.A.I  Q.A     P.E.I     P.E.C  COMPLIANCE Ratio  \\\n",
       "0     47     13     15    6   Neutral   Neutral                98   \n",
       "1     52      5     15    4   Neutral  Negative                54   \n",
       "2     34      4      7    3  Positive  Positive                31   \n",
       "3     75     10     10    7  Positive  Negative                24   \n",
       "4     74     13      7    3  Negative  Positive                73   \n",
       "\n",
       "   Interview duration Interviewer Intro Candidate into Opp to ask    Status  \n",
       "0                  37                No            Yes        Yes  Consider  \n",
       "1                  33                No             No        Yes  Consider  \n",
       "2                  58                No            Yes         No  Consider  \n",
       "3                  35                No            Yes         No  Consider  \n",
       "4                  60               Yes            Yes         No  Consider  "
      ]
     },
     "execution_count": 7,
     "metadata": {},
     "output_type": "execute_result"
    }
   ],
   "source": [
    "train_df.head()"
   ]
  },
  {
   "cell_type": "code",
   "execution_count": 6,
   "id": "d9ec1fbb",
   "metadata": {},
   "outputs": [],
   "source": [
    "test_df = pd.read_csv('test.csv',header='infer')"
   ]
  },
  {
   "cell_type": "code",
   "execution_count": 7,
   "id": "66bc3ab3",
   "metadata": {},
   "outputs": [
    {
     "data": {
      "text/html": [
       "<div>\n",
       "<style scoped>\n",
       "    .dataframe tbody tr th:only-of-type {\n",
       "        vertical-align: middle;\n",
       "    }\n",
       "\n",
       "    .dataframe tbody tr th {\n",
       "        vertical-align: top;\n",
       "    }\n",
       "\n",
       "    .dataframe thead th {\n",
       "        text-align: right;\n",
       "    }\n",
       "</style>\n",
       "<table border=\"1\" class=\"dataframe\">\n",
       "  <thead>\n",
       "    <tr style=\"text-align: right;\">\n",
       "      <th></th>\n",
       "      <th>Interview Id</th>\n",
       "      <th>Candidate Id</th>\n",
       "      <th>Interviewer Id</th>\n",
       "      <th>Profile</th>\n",
       "      <th>S.L.R.C</th>\n",
       "      <th>S.L.R.I</th>\n",
       "      <th>A.T.T</th>\n",
       "      <th>L.M.I</th>\n",
       "      <th>L.M.C</th>\n",
       "      <th>S.R</th>\n",
       "      <th>L.J.T.C</th>\n",
       "      <th>L.J.T.I</th>\n",
       "      <th>N.I.C</th>\n",
       "      <th>N.I.I</th>\n",
       "      <th>S.P.I</th>\n",
       "      <th>S.P.C</th>\n",
       "      <th>L.A.C</th>\n",
       "      <th>L.A.I</th>\n",
       "      <th>Q.A</th>\n",
       "      <th>P.E.I</th>\n",
       "      <th>P.E.C</th>\n",
       "      <th>COMPLIANCE Ratio</th>\n",
       "      <th>Interview duration</th>\n",
       "      <th>Interviewer Intro</th>\n",
       "      <th>Candidate into</th>\n",
       "      <th>Opp to ask</th>\n",
       "    </tr>\n",
       "  </thead>\n",
       "  <tbody>\n",
       "    <tr>\n",
       "      <th>0</th>\n",
       "      <td>702127796635</td>\n",
       "      <td>2.381365e+09</td>\n",
       "      <td>229</td>\n",
       "      <td>Product Manager</td>\n",
       "      <td>0.52</td>\n",
       "      <td>0.48</td>\n",
       "      <td>103</td>\n",
       "      <td>53</td>\n",
       "      <td>77</td>\n",
       "      <td>30</td>\n",
       "      <td>26.0</td>\n",
       "      <td>287</td>\n",
       "      <td>8</td>\n",
       "      <td>22</td>\n",
       "      <td>69.0</td>\n",
       "      <td>88</td>\n",
       "      <td>5</td>\n",
       "      <td>19.0</td>\n",
       "      <td>4.0</td>\n",
       "      <td>Positive</td>\n",
       "      <td>Negative</td>\n",
       "      <td>24.0</td>\n",
       "      <td>49</td>\n",
       "      <td>Yes</td>\n",
       "      <td>Yes</td>\n",
       "      <td>Yes</td>\n",
       "    </tr>\n",
       "    <tr>\n",
       "      <th>1</th>\n",
       "      <td>613490569071</td>\n",
       "      <td>8.428514e+08</td>\n",
       "      <td>194</td>\n",
       "      <td>Product Manager</td>\n",
       "      <td>0.87</td>\n",
       "      <td>0.13</td>\n",
       "      <td>54</td>\n",
       "      <td>57</td>\n",
       "      <td>57</td>\n",
       "      <td>68</td>\n",
       "      <td>179.0</td>\n",
       "      <td>253</td>\n",
       "      <td>62</td>\n",
       "      <td>40</td>\n",
       "      <td>47.0</td>\n",
       "      <td>81</td>\n",
       "      <td>1</td>\n",
       "      <td>9.0</td>\n",
       "      <td>7.0</td>\n",
       "      <td>Positive</td>\n",
       "      <td>Neutral</td>\n",
       "      <td>99.0</td>\n",
       "      <td>24</td>\n",
       "      <td>No</td>\n",
       "      <td>Yes</td>\n",
       "      <td>Yes</td>\n",
       "    </tr>\n",
       "    <tr>\n",
       "      <th>2</th>\n",
       "      <td>759998772623</td>\n",
       "      <td>7.681665e+09</td>\n",
       "      <td>266</td>\n",
       "      <td>QA Automation</td>\n",
       "      <td>0.60</td>\n",
       "      <td>0.40</td>\n",
       "      <td>50</td>\n",
       "      <td>117</td>\n",
       "      <td>93</td>\n",
       "      <td>36</td>\n",
       "      <td>137.0</td>\n",
       "      <td>31</td>\n",
       "      <td>40</td>\n",
       "      <td>52</td>\n",
       "      <td>57.0</td>\n",
       "      <td>13</td>\n",
       "      <td>7</td>\n",
       "      <td>15.0</td>\n",
       "      <td>3.0</td>\n",
       "      <td>Negative</td>\n",
       "      <td>Positive</td>\n",
       "      <td>16.0</td>\n",
       "      <td>16</td>\n",
       "      <td>Yes</td>\n",
       "      <td>No</td>\n",
       "      <td>Yes</td>\n",
       "    </tr>\n",
       "    <tr>\n",
       "      <th>3</th>\n",
       "      <td>391760082113</td>\n",
       "      <td>6.627808e+09</td>\n",
       "      <td>256</td>\n",
       "      <td>HR</td>\n",
       "      <td>0.52</td>\n",
       "      <td>0.48</td>\n",
       "      <td>102</td>\n",
       "      <td>114</td>\n",
       "      <td>66</td>\n",
       "      <td>31</td>\n",
       "      <td>176.0</td>\n",
       "      <td>242</td>\n",
       "      <td>69</td>\n",
       "      <td>66</td>\n",
       "      <td>59.0</td>\n",
       "      <td>10</td>\n",
       "      <td>10</td>\n",
       "      <td>4.0</td>\n",
       "      <td>6.0</td>\n",
       "      <td>Negative</td>\n",
       "      <td>Neutral</td>\n",
       "      <td>66.0</td>\n",
       "      <td>40</td>\n",
       "      <td>No</td>\n",
       "      <td>No</td>\n",
       "      <td>Yes</td>\n",
       "    </tr>\n",
       "    <tr>\n",
       "      <th>4</th>\n",
       "      <td>941599210196</td>\n",
       "      <td>1.148634e+09</td>\n",
       "      <td>267</td>\n",
       "      <td>HR</td>\n",
       "      <td>0.59</td>\n",
       "      <td>0.41</td>\n",
       "      <td>96</td>\n",
       "      <td>73</td>\n",
       "      <td>115</td>\n",
       "      <td>23</td>\n",
       "      <td>218.0</td>\n",
       "      <td>215</td>\n",
       "      <td>69</td>\n",
       "      <td>42</td>\n",
       "      <td>74.0</td>\n",
       "      <td>20</td>\n",
       "      <td>10</td>\n",
       "      <td>4.0</td>\n",
       "      <td>6.0</td>\n",
       "      <td>Positive</td>\n",
       "      <td>Positive</td>\n",
       "      <td>47.0</td>\n",
       "      <td>38</td>\n",
       "      <td>No</td>\n",
       "      <td>Yes</td>\n",
       "      <td>Yes</td>\n",
       "    </tr>\n",
       "  </tbody>\n",
       "</table>\n",
       "</div>"
      ],
      "text/plain": [
       "   Interview Id  Candidate Id  Interviewer Id          Profile  S.L.R.C  \\\n",
       "0  702127796635  2.381365e+09             229  Product Manager     0.52   \n",
       "1  613490569071  8.428514e+08             194  Product Manager     0.87   \n",
       "2  759998772623  7.681665e+09             266    QA Automation     0.60   \n",
       "3  391760082113  6.627808e+09             256               HR     0.52   \n",
       "4  941599210196  1.148634e+09             267               HR     0.59   \n",
       "\n",
       "   S.L.R.I  A.T.T  L.M.I  L.M.C  S.R  L.J.T.C  L.J.T.I  N.I.C  N.I.I  S.P.I  \\\n",
       "0     0.48    103     53     77   30     26.0      287      8     22   69.0   \n",
       "1     0.13     54     57     57   68    179.0      253     62     40   47.0   \n",
       "2     0.40     50    117     93   36    137.0       31     40     52   57.0   \n",
       "3     0.48    102    114     66   31    176.0      242     69     66   59.0   \n",
       "4     0.41     96     73    115   23    218.0      215     69     42   74.0   \n",
       "\n",
       "   S.P.C  L.A.C  L.A.I  Q.A     P.E.I     P.E.C  COMPLIANCE Ratio  \\\n",
       "0     88      5   19.0  4.0  Positive  Negative              24.0   \n",
       "1     81      1    9.0  7.0  Positive   Neutral              99.0   \n",
       "2     13      7   15.0  3.0  Negative  Positive              16.0   \n",
       "3     10     10    4.0  6.0  Negative   Neutral              66.0   \n",
       "4     20     10    4.0  6.0  Positive  Positive              47.0   \n",
       "\n",
       "   Interview duration Interviewer Intro Candidate into Opp to ask  \n",
       "0                  49               Yes            Yes        Yes  \n",
       "1                  24                No            Yes        Yes  \n",
       "2                  16               Yes             No        Yes  \n",
       "3                  40                No             No        Yes  \n",
       "4                  38                No            Yes        Yes  "
      ]
     },
     "execution_count": 7,
     "metadata": {},
     "output_type": "execute_result"
    }
   ],
   "source": [
    "test_df.head()"
   ]
  },
  {
   "cell_type": "markdown",
   "id": "8904ef68",
   "metadata": {},
   "source": [
    "## Dataset information"
   ]
  },
  {
   "cell_type": "code",
   "execution_count": 8,
   "id": "088ab12a",
   "metadata": {},
   "outputs": [
    {
     "data": {
      "text/plain": [
       "(5800, 27)"
      ]
     },
     "execution_count": 8,
     "metadata": {},
     "output_type": "execute_result"
    }
   ],
   "source": [
    "train_df.shape"
   ]
  },
  {
   "cell_type": "code",
   "execution_count": 9,
   "id": "260ab134",
   "metadata": {},
   "outputs": [
    {
     "name": "stdout",
     "output_type": "stream",
     "text": [
      "<class 'pandas.core.frame.DataFrame'>\n",
      "RangeIndex: 5800 entries, 0 to 5799\n",
      "Data columns (total 27 columns):\n",
      " #   Column              Non-Null Count  Dtype  \n",
      "---  ------              --------------  -----  \n",
      " 0   Interview Id        5800 non-null   float64\n",
      " 1   Candidate Id        5800 non-null   float64\n",
      " 2   Interviewer Id      5800 non-null   int64  \n",
      " 3   Profile             5800 non-null   object \n",
      " 4   S.L.R.C             5800 non-null   float64\n",
      " 5   S.L.R.I             5800 non-null   float64\n",
      " 6   A.T.T               5800 non-null   int64  \n",
      " 7   L.M.I               5800 non-null   int64  \n",
      " 8   L.M.C               5800 non-null   int64  \n",
      " 9   S.R                 5800 non-null   int64  \n",
      " 10  L.J.T.C             5800 non-null   int64  \n",
      " 11  L.J.T.I             5800 non-null   int64  \n",
      " 12  N.I.C               5800 non-null   int64  \n",
      " 13  N.I.I               5800 non-null   int64  \n",
      " 14  S.P.I               5800 non-null   int64  \n",
      " 15  S.P.C               5800 non-null   int64  \n",
      " 16  L.A.C               5800 non-null   int64  \n",
      " 17  L.A.I               5800 non-null   int64  \n",
      " 18  Q.A                 5800 non-null   int64  \n",
      " 19  P.E.I               5799 non-null   object \n",
      " 20  P.E.C               5797 non-null   object \n",
      " 21  COMPLIANCE Ratio    5800 non-null   int64  \n",
      " 22  Interview duration  5800 non-null   int64  \n",
      " 23  Interviewer Intro   5799 non-null   object \n",
      " 24  Candidate into      5800 non-null   object \n",
      " 25  Opp to ask          5799 non-null   object \n",
      " 26  Status              5796 non-null   object \n",
      "dtypes: float64(4), int64(16), object(7)\n",
      "memory usage: 1.2+ MB\n"
     ]
    }
   ],
   "source": [
    "train_df.info()"
   ]
  },
  {
   "cell_type": "code",
   "execution_count": 10,
   "id": "872d9fe8",
   "metadata": {},
   "outputs": [
    {
     "data": {
      "text/plain": [
       "(1200, 26)"
      ]
     },
     "execution_count": 10,
     "metadata": {},
     "output_type": "execute_result"
    }
   ],
   "source": [
    "test_df.shape"
   ]
  },
  {
   "cell_type": "code",
   "execution_count": 11,
   "id": "77df9b4e",
   "metadata": {},
   "outputs": [
    {
     "name": "stdout",
     "output_type": "stream",
     "text": [
      "<class 'pandas.core.frame.DataFrame'>\n",
      "RangeIndex: 1200 entries, 0 to 1199\n",
      "Data columns (total 26 columns):\n",
      " #   Column              Non-Null Count  Dtype  \n",
      "---  ------              --------------  -----  \n",
      " 0   Interview Id        1200 non-null   int64  \n",
      " 1   Candidate Id        1200 non-null   float64\n",
      " 2   Interviewer Id      1200 non-null   int64  \n",
      " 3   Profile             1200 non-null   object \n",
      " 4   S.L.R.C             1200 non-null   float64\n",
      " 5   S.L.R.I             1199 non-null   float64\n",
      " 6   A.T.T               1200 non-null   int64  \n",
      " 7   L.M.I               1200 non-null   int64  \n",
      " 8   L.M.C               1200 non-null   int64  \n",
      " 9   S.R                 1200 non-null   int64  \n",
      " 10  L.J.T.C             1199 non-null   float64\n",
      " 11  L.J.T.I             1200 non-null   int64  \n",
      " 12  N.I.C               1200 non-null   int64  \n",
      " 13  N.I.I               1200 non-null   int64  \n",
      " 14  S.P.I               1198 non-null   float64\n",
      " 15  S.P.C               1200 non-null   int64  \n",
      " 16  L.A.C               1200 non-null   int64  \n",
      " 17  L.A.I               1199 non-null   float64\n",
      " 18  Q.A                 1199 non-null   float64\n",
      " 19  P.E.I               1198 non-null   object \n",
      " 20  P.E.C               1198 non-null   object \n",
      " 21  COMPLIANCE Ratio    1199 non-null   float64\n",
      " 22  Interview duration  1200 non-null   int64  \n",
      " 23  Interviewer Intro   1198 non-null   object \n",
      " 24  Candidate into      1200 non-null   object \n",
      " 25  Opp to ask          1200 non-null   object \n",
      "dtypes: float64(8), int64(12), object(6)\n",
      "memory usage: 243.9+ KB\n"
     ]
    }
   ],
   "source": [
    "test_df.info()"
   ]
  },
  {
   "cell_type": "markdown",
   "id": "20c6361b",
   "metadata": {},
   "source": [
    "## Categorical and Numerical columns"
   ]
  },
  {
   "cell_type": "code",
   "execution_count": 12,
   "id": "a6cb7e98",
   "metadata": {},
   "outputs": [],
   "source": [
    "# Separating numerical and categorical columns\n",
    "cat_cols = []\n",
    "num_cols = []\n",
    "for i in train_df.columns:\n",
    "    if (train_df[i].dtype=='object'):\n",
    "        cat_cols.append(i)\n",
    "    else:\n",
    "        num_cols.append(i)"
   ]
  },
  {
   "cell_type": "code",
   "execution_count": 13,
   "id": "cd9ae7dc",
   "metadata": {},
   "outputs": [
    {
     "name": "stdout",
     "output_type": "stream",
     "text": [
      "Categorical Columns: ['Profile', 'P.E.I', 'P.E.C', 'Interviewer Intro', 'Candidate into', 'Opp to ask', 'Status'] \n",
      "Numerical Columns: ['Interview Id', 'Candidate Id', 'Interviewer Id', 'S.L.R.C', 'S.L.R.I', 'A.T.T', 'L.M.I', 'L.M.C', 'S.R', 'L.J.T.C', 'L.J.T.I', 'N.I.C', 'N.I.I', 'S.P.I', 'S.P.C', 'L.A.C', 'L.A.I', 'Q.A', 'COMPLIANCE Ratio', 'Interview duration']\n"
     ]
    }
   ],
   "source": [
    "print('Categorical Columns:',cat_cols,'\\nNumerical Columns:',num_cols)"
   ]
  },
  {
   "cell_type": "markdown",
   "id": "e37c6fb1",
   "metadata": {},
   "source": [
    "## Handling Nulls"
   ]
  },
  {
   "cell_type": "code",
   "execution_count": 14,
   "id": "06612a19",
   "metadata": {},
   "outputs": [
    {
     "data": {
      "text/html": [
       "<div>\n",
       "<style scoped>\n",
       "    .dataframe tbody tr th:only-of-type {\n",
       "        vertical-align: middle;\n",
       "    }\n",
       "\n",
       "    .dataframe tbody tr th {\n",
       "        vertical-align: top;\n",
       "    }\n",
       "\n",
       "    .dataframe thead th {\n",
       "        text-align: right;\n",
       "    }\n",
       "</style>\n",
       "<table border=\"1\" class=\"dataframe\">\n",
       "  <thead>\n",
       "    <tr style=\"text-align: right;\">\n",
       "      <th></th>\n",
       "      <th>Null count</th>\n",
       "      <th>Percentage</th>\n",
       "      <th>Data_Type</th>\n",
       "    </tr>\n",
       "  </thead>\n",
       "  <tbody>\n",
       "    <tr>\n",
       "      <th>P.E.I</th>\n",
       "      <td>1</td>\n",
       "      <td>0.017241</td>\n",
       "      <td>object</td>\n",
       "    </tr>\n",
       "    <tr>\n",
       "      <th>P.E.C</th>\n",
       "      <td>3</td>\n",
       "      <td>0.051724</td>\n",
       "      <td>object</td>\n",
       "    </tr>\n",
       "    <tr>\n",
       "      <th>Interviewer Intro</th>\n",
       "      <td>1</td>\n",
       "      <td>0.017241</td>\n",
       "      <td>object</td>\n",
       "    </tr>\n",
       "    <tr>\n",
       "      <th>Opp to ask</th>\n",
       "      <td>1</td>\n",
       "      <td>0.017241</td>\n",
       "      <td>object</td>\n",
       "    </tr>\n",
       "    <tr>\n",
       "      <th>Status</th>\n",
       "      <td>4</td>\n",
       "      <td>0.068966</td>\n",
       "      <td>object</td>\n",
       "    </tr>\n",
       "  </tbody>\n",
       "</table>\n",
       "</div>"
      ],
      "text/plain": [
       "                   Null count  Percentage Data_Type\n",
       "P.E.I                       1    0.017241    object\n",
       "P.E.C                       3    0.051724    object\n",
       "Interviewer Intro           1    0.017241    object\n",
       "Opp to ask                  1    0.017241    object\n",
       "Status                      4    0.068966    object"
      ]
     },
     "execution_count": 14,
     "metadata": {},
     "output_type": "execute_result"
    }
   ],
   "source": [
    "train_null_count = pd.DataFrame(\n",
    "    {'Null count':train_df.isnull().sum(),\n",
    "              'Percentage':train_df.isnull().sum()/len(train_df)*100,\n",
    "              'Data_Type':train_df.dtypes\n",
    "   }\n",
    ")\n",
    "train_null_count[train_null_count.Percentage>0]"
   ]
  },
  {
   "cell_type": "code",
   "execution_count": 15,
   "id": "79880e45",
   "metadata": {},
   "outputs": [],
   "source": [
    "# We can see that our target variable also has nulls which are very small, hence we'll drop these and we'll fill others.\n",
    "train_df = train_df.dropna(subset=['Status'])"
   ]
  },
  {
   "cell_type": "code",
   "execution_count": 16,
   "id": "e5623657",
   "metadata": {},
   "outputs": [],
   "source": [
    "train_df['P.E.I'].value_counts()\n",
    "train_df['P.E.I'] = train_df['P.E.I'].fillna(train_df['P.E.I'].mode()[0])"
   ]
  },
  {
   "cell_type": "code",
   "execution_count": 17,
   "id": "fa072477",
   "metadata": {},
   "outputs": [],
   "source": [
    "train_df['P.E.C'].value_counts()\n",
    "train_df['P.E.C'] = train_df['P.E.C'].fillna(train_df['P.E.C'].mode()[0])"
   ]
  },
  {
   "cell_type": "code",
   "execution_count": 18,
   "id": "bc6c2a24",
   "metadata": {},
   "outputs": [],
   "source": [
    "train_df['Interviewer Intro'].value_counts()\n",
    "train_df['Interviewer Intro'] = train_df['Interviewer Intro'].fillna(train_df['Interviewer Intro'].mode()[0])"
   ]
  },
  {
   "cell_type": "code",
   "execution_count": 19,
   "id": "05d28daf",
   "metadata": {},
   "outputs": [],
   "source": [
    "train_df['Opp to ask'].value_counts()\n",
    "train_df['Opp to ask'] = train_df['Opp to ask'].fillna(train_df['Opp to ask'].mode()[0])"
   ]
  },
  {
   "cell_type": "code",
   "execution_count": 20,
   "id": "26408885",
   "metadata": {},
   "outputs": [
    {
     "data": {
      "text/html": [
       "<div>\n",
       "<style scoped>\n",
       "    .dataframe tbody tr th:only-of-type {\n",
       "        vertical-align: middle;\n",
       "    }\n",
       "\n",
       "    .dataframe tbody tr th {\n",
       "        vertical-align: top;\n",
       "    }\n",
       "\n",
       "    .dataframe thead th {\n",
       "        text-align: right;\n",
       "    }\n",
       "</style>\n",
       "<table border=\"1\" class=\"dataframe\">\n",
       "  <thead>\n",
       "    <tr style=\"text-align: right;\">\n",
       "      <th></th>\n",
       "      <th>Null count</th>\n",
       "      <th>Percentage</th>\n",
       "      <th>Data_Type</th>\n",
       "    </tr>\n",
       "  </thead>\n",
       "  <tbody>\n",
       "  </tbody>\n",
       "</table>\n",
       "</div>"
      ],
      "text/plain": [
       "Empty DataFrame\n",
       "Columns: [Null count, Percentage, Data_Type]\n",
       "Index: []"
      ]
     },
     "execution_count": 20,
     "metadata": {},
     "output_type": "execute_result"
    }
   ],
   "source": [
    "train_null_count = pd.DataFrame(\n",
    "    {'Null count':train_df.isnull().sum(),\n",
    "              'Percentage':train_df.isnull().sum()/len(train_df)*100,\n",
    "              'Data_Type':train_df.dtypes\n",
    "   }\n",
    ")\n",
    "train_null_count[train_null_count.Percentage>0]"
   ]
  },
  {
   "cell_type": "code",
   "execution_count": 21,
   "id": "03a01f61",
   "metadata": {},
   "outputs": [
    {
     "data": {
      "text/html": [
       "<div>\n",
       "<style scoped>\n",
       "    .dataframe tbody tr th:only-of-type {\n",
       "        vertical-align: middle;\n",
       "    }\n",
       "\n",
       "    .dataframe tbody tr th {\n",
       "        vertical-align: top;\n",
       "    }\n",
       "\n",
       "    .dataframe thead th {\n",
       "        text-align: right;\n",
       "    }\n",
       "</style>\n",
       "<table border=\"1\" class=\"dataframe\">\n",
       "  <thead>\n",
       "    <tr style=\"text-align: right;\">\n",
       "      <th></th>\n",
       "      <th>Null count</th>\n",
       "      <th>Percentage</th>\n",
       "      <th>Data_Type</th>\n",
       "    </tr>\n",
       "  </thead>\n",
       "  <tbody>\n",
       "    <tr>\n",
       "      <th>S.L.R.I</th>\n",
       "      <td>1</td>\n",
       "      <td>0.083333</td>\n",
       "      <td>float64</td>\n",
       "    </tr>\n",
       "    <tr>\n",
       "      <th>L.J.T.C</th>\n",
       "      <td>1</td>\n",
       "      <td>0.083333</td>\n",
       "      <td>float64</td>\n",
       "    </tr>\n",
       "    <tr>\n",
       "      <th>S.P.I</th>\n",
       "      <td>2</td>\n",
       "      <td>0.166667</td>\n",
       "      <td>float64</td>\n",
       "    </tr>\n",
       "    <tr>\n",
       "      <th>L.A.I</th>\n",
       "      <td>1</td>\n",
       "      <td>0.083333</td>\n",
       "      <td>float64</td>\n",
       "    </tr>\n",
       "    <tr>\n",
       "      <th>Q.A</th>\n",
       "      <td>1</td>\n",
       "      <td>0.083333</td>\n",
       "      <td>float64</td>\n",
       "    </tr>\n",
       "    <tr>\n",
       "      <th>P.E.I</th>\n",
       "      <td>2</td>\n",
       "      <td>0.166667</td>\n",
       "      <td>object</td>\n",
       "    </tr>\n",
       "    <tr>\n",
       "      <th>P.E.C</th>\n",
       "      <td>2</td>\n",
       "      <td>0.166667</td>\n",
       "      <td>object</td>\n",
       "    </tr>\n",
       "    <tr>\n",
       "      <th>COMPLIANCE Ratio</th>\n",
       "      <td>1</td>\n",
       "      <td>0.083333</td>\n",
       "      <td>float64</td>\n",
       "    </tr>\n",
       "    <tr>\n",
       "      <th>Interviewer Intro</th>\n",
       "      <td>2</td>\n",
       "      <td>0.166667</td>\n",
       "      <td>object</td>\n",
       "    </tr>\n",
       "  </tbody>\n",
       "</table>\n",
       "</div>"
      ],
      "text/plain": [
       "                   Null count  Percentage Data_Type\n",
       "S.L.R.I                     1    0.083333   float64\n",
       "L.J.T.C                     1    0.083333   float64\n",
       "S.P.I                       2    0.166667   float64\n",
       "L.A.I                       1    0.083333   float64\n",
       "Q.A                         1    0.083333   float64\n",
       "P.E.I                       2    0.166667    object\n",
       "P.E.C                       2    0.166667    object\n",
       "COMPLIANCE Ratio            1    0.083333   float64\n",
       "Interviewer Intro           2    0.166667    object"
      ]
     },
     "execution_count": 21,
     "metadata": {},
     "output_type": "execute_result"
    }
   ],
   "source": [
    "test_null_count = pd.DataFrame(\n",
    "    {'Null count':test_df.isnull().sum(),\n",
    "              'Percentage':test_df.isnull().sum()/len(test_df)*100,\n",
    "              'Data_Type':test_df.dtypes\n",
    "   }\n",
    ")\n",
    "test_null_count[test_null_count.Percentage>0]"
   ]
  },
  {
   "cell_type": "code",
   "execution_count": null,
   "id": "ff6b8449",
   "metadata": {},
   "outputs": [],
   "source": []
  },
  {
   "cell_type": "code",
   "execution_count": 22,
   "id": "541935a8",
   "metadata": {},
   "outputs": [],
   "source": [
    "test_df['S.L.R.I'].mean()\n",
    "test_df['S.L.R.I'] = test_df['S.L.R.I'].fillna(test_df['S.L.R.I'].mean())"
   ]
  },
  {
   "cell_type": "code",
   "execution_count": 23,
   "id": "2146789e",
   "metadata": {},
   "outputs": [],
   "source": [
    "test_df['L.J.T.C'].value_counts()\n",
    "test_df['L.J.T.C'].median()\n",
    "test_df['L.J.T.C'] = test_df['L.J.T.C'].fillna(test_df['L.J.T.C'].median())"
   ]
  },
  {
   "cell_type": "code",
   "execution_count": 24,
   "id": "8f76bf9b",
   "metadata": {},
   "outputs": [],
   "source": [
    "test_df['S.P.I'].mean()\n",
    "test_df['S.P.I'].median()\n",
    "test_df['S.P.I'] = test_df['S.P.I'].fillna(test_df['S.P.I'].median())"
   ]
  },
  {
   "cell_type": "code",
   "execution_count": 25,
   "id": "21e7e4df",
   "metadata": {},
   "outputs": [],
   "source": [
    "test_df['L.A.I'].mean()\n",
    "test_df['L.A.I'].value_counts()\n",
    "test_df['L.A.I'] = test_df['L.A.I'].fillna(test_df['L.A.I'].median())"
   ]
  },
  {
   "cell_type": "code",
   "execution_count": 26,
   "id": "ccde4d18",
   "metadata": {},
   "outputs": [],
   "source": [
    "test_df['Q.A'].mean()\n",
    "test_df['Q.A'].value_counts()\n",
    "test_df['Q.A'] = test_df['Q.A'].fillna(test_df['Q.A'].median())"
   ]
  },
  {
   "cell_type": "code",
   "execution_count": 27,
   "id": "50875b65",
   "metadata": {},
   "outputs": [],
   "source": [
    "test_df['COMPLIANCE Ratio'].mean()\n",
    "test_df['COMPLIANCE Ratio'].value_counts()\n",
    "test_df['COMPLIANCE Ratio'] = test_df['COMPLIANCE Ratio'].fillna(test_df['COMPLIANCE Ratio'].median())"
   ]
  },
  {
   "cell_type": "code",
   "execution_count": 28,
   "id": "ed1f9d8a",
   "metadata": {},
   "outputs": [],
   "source": [
    "test_df['P.E.I'].value_counts()\n",
    "test_df['P.E.I'] = test_df['P.E.I'].fillna(test_df['P.E.I'].mode()[0])"
   ]
  },
  {
   "cell_type": "code",
   "execution_count": 29,
   "id": "99bc083e",
   "metadata": {},
   "outputs": [],
   "source": [
    "test_df['P.E.C'].value_counts()\n",
    "test_df['P.E.C'] = test_df['P.E.C'].fillna(test_df['P.E.C'].mode()[0])"
   ]
  },
  {
   "cell_type": "code",
   "execution_count": 30,
   "id": "84459e1c",
   "metadata": {},
   "outputs": [],
   "source": [
    "test_df['Interviewer Intro'].value_counts()\n",
    "test_df['Interviewer Intro'] = test_df['Interviewer Intro'].fillna(test_df['Interviewer Intro'].mode()[0])"
   ]
  },
  {
   "cell_type": "code",
   "execution_count": 31,
   "id": "31c8a98e",
   "metadata": {},
   "outputs": [
    {
     "data": {
      "text/html": [
       "<div>\n",
       "<style scoped>\n",
       "    .dataframe tbody tr th:only-of-type {\n",
       "        vertical-align: middle;\n",
       "    }\n",
       "\n",
       "    .dataframe tbody tr th {\n",
       "        vertical-align: top;\n",
       "    }\n",
       "\n",
       "    .dataframe thead th {\n",
       "        text-align: right;\n",
       "    }\n",
       "</style>\n",
       "<table border=\"1\" class=\"dataframe\">\n",
       "  <thead>\n",
       "    <tr style=\"text-align: right;\">\n",
       "      <th></th>\n",
       "      <th>Null count</th>\n",
       "      <th>Percentage</th>\n",
       "      <th>Data_Type</th>\n",
       "    </tr>\n",
       "  </thead>\n",
       "  <tbody>\n",
       "  </tbody>\n",
       "</table>\n",
       "</div>"
      ],
      "text/plain": [
       "Empty DataFrame\n",
       "Columns: [Null count, Percentage, Data_Type]\n",
       "Index: []"
      ]
     },
     "execution_count": 31,
     "metadata": {},
     "output_type": "execute_result"
    }
   ],
   "source": [
    "test_null_count = pd.DataFrame(\n",
    "    {'Null count':test_df.isnull().sum(),\n",
    "              'Percentage':test_df.isnull().sum()/len(test_df)*100,\n",
    "              'Data_Type':test_df.dtypes\n",
    "   }\n",
    ")\n",
    "test_null_count[test_null_count.Percentage>0]"
   ]
  },
  {
   "cell_type": "raw",
   "id": "d0af8d33",
   "metadata": {},
   "source": [
    "We have filled all null values in both train and test data sets."
   ]
  },
  {
   "cell_type": "markdown",
   "id": "08076447",
   "metadata": {},
   "source": [
    "## Label Encoding\n",
    "- To convert categorical columns to numerical columns"
   ]
  },
  {
   "cell_type": "code",
   "execution_count": 32,
   "id": "f248b219",
   "metadata": {},
   "outputs": [],
   "source": [
    "from sklearn.preprocessing import LabelEncoder\n",
    "le = LabelEncoder()"
   ]
  },
  {
   "cell_type": "code",
   "execution_count": 33,
   "id": "25b5632b",
   "metadata": {},
   "outputs": [
    {
     "data": {
      "text/plain": [
       "Consider        2311\n",
       "May Consider    1890\n",
       "Not Consider    1595\n",
       "Name: Status, dtype: int64"
      ]
     },
     "execution_count": 33,
     "metadata": {},
     "output_type": "execute_result"
    }
   ],
   "source": [
    "train_df.Status.value_counts()"
   ]
  },
  {
   "cell_type": "code",
   "execution_count": 34,
   "id": "7be7c3fc",
   "metadata": {},
   "outputs": [],
   "source": [
    "train_df.Status = train_df.Status.replace({'Consider':0,'May Consider':1,'Not Consider':2})"
   ]
  },
  {
   "cell_type": "code",
   "execution_count": 35,
   "id": "32771aeb",
   "metadata": {},
   "outputs": [],
   "source": [
    "train_df[train_df.select_dtypes(include = ['object']).columns] = train_df[train_df.select_dtypes(include = ['object']).columns].apply(le.fit_transform)"
   ]
  },
  {
   "cell_type": "code",
   "execution_count": 36,
   "id": "ebeb8953",
   "metadata": {
    "scrolled": true
   },
   "outputs": [
    {
     "name": "stdout",
     "output_type": "stream",
     "text": [
      "<class 'pandas.core.frame.DataFrame'>\n",
      "Int64Index: 5796 entries, 0 to 5799\n",
      "Data columns (total 27 columns):\n",
      " #   Column              Non-Null Count  Dtype  \n",
      "---  ------              --------------  -----  \n",
      " 0   Interview Id        5796 non-null   float64\n",
      " 1   Candidate Id        5796 non-null   float64\n",
      " 2   Interviewer Id      5796 non-null   int64  \n",
      " 3   Profile             5796 non-null   int32  \n",
      " 4   S.L.R.C             5796 non-null   float64\n",
      " 5   S.L.R.I             5796 non-null   float64\n",
      " 6   A.T.T               5796 non-null   int64  \n",
      " 7   L.M.I               5796 non-null   int64  \n",
      " 8   L.M.C               5796 non-null   int64  \n",
      " 9   S.R                 5796 non-null   int64  \n",
      " 10  L.J.T.C             5796 non-null   int64  \n",
      " 11  L.J.T.I             5796 non-null   int64  \n",
      " 12  N.I.C               5796 non-null   int64  \n",
      " 13  N.I.I               5796 non-null   int64  \n",
      " 14  S.P.I               5796 non-null   int64  \n",
      " 15  S.P.C               5796 non-null   int64  \n",
      " 16  L.A.C               5796 non-null   int64  \n",
      " 17  L.A.I               5796 non-null   int64  \n",
      " 18  Q.A                 5796 non-null   int64  \n",
      " 19  P.E.I               5796 non-null   int32  \n",
      " 20  P.E.C               5796 non-null   int32  \n",
      " 21  COMPLIANCE Ratio    5796 non-null   int64  \n",
      " 22  Interview duration  5796 non-null   int64  \n",
      " 23  Interviewer Intro   5796 non-null   int32  \n",
      " 24  Candidate into      5796 non-null   int32  \n",
      " 25  Opp to ask          5796 non-null   int32  \n",
      " 26  Status              5796 non-null   int64  \n",
      "dtypes: float64(4), int32(6), int64(17)\n",
      "memory usage: 1.1 MB\n"
     ]
    }
   ],
   "source": [
    "train_df.info()"
   ]
  },
  {
   "cell_type": "code",
   "execution_count": 37,
   "id": "a562886c",
   "metadata": {},
   "outputs": [],
   "source": [
    "test_df[test_df.select_dtypes(include = ['object']).columns] = test_df[test_df.select_dtypes(include = ['object']).columns].apply(le.fit_transform)"
   ]
  },
  {
   "cell_type": "code",
   "execution_count": 38,
   "id": "6d661beb",
   "metadata": {},
   "outputs": [
    {
     "name": "stdout",
     "output_type": "stream",
     "text": [
      "<class 'pandas.core.frame.DataFrame'>\n",
      "RangeIndex: 1200 entries, 0 to 1199\n",
      "Data columns (total 26 columns):\n",
      " #   Column              Non-Null Count  Dtype  \n",
      "---  ------              --------------  -----  \n",
      " 0   Interview Id        1200 non-null   int64  \n",
      " 1   Candidate Id        1200 non-null   float64\n",
      " 2   Interviewer Id      1200 non-null   int64  \n",
      " 3   Profile             1200 non-null   int32  \n",
      " 4   S.L.R.C             1200 non-null   float64\n",
      " 5   S.L.R.I             1200 non-null   float64\n",
      " 6   A.T.T               1200 non-null   int64  \n",
      " 7   L.M.I               1200 non-null   int64  \n",
      " 8   L.M.C               1200 non-null   int64  \n",
      " 9   S.R                 1200 non-null   int64  \n",
      " 10  L.J.T.C             1200 non-null   float64\n",
      " 11  L.J.T.I             1200 non-null   int64  \n",
      " 12  N.I.C               1200 non-null   int64  \n",
      " 13  N.I.I               1200 non-null   int64  \n",
      " 14  S.P.I               1200 non-null   float64\n",
      " 15  S.P.C               1200 non-null   int64  \n",
      " 16  L.A.C               1200 non-null   int64  \n",
      " 17  L.A.I               1200 non-null   float64\n",
      " 18  Q.A                 1200 non-null   float64\n",
      " 19  P.E.I               1200 non-null   int32  \n",
      " 20  P.E.C               1200 non-null   int32  \n",
      " 21  COMPLIANCE Ratio    1200 non-null   float64\n",
      " 22  Interview duration  1200 non-null   int64  \n",
      " 23  Interviewer Intro   1200 non-null   int32  \n",
      " 24  Candidate into      1200 non-null   int32  \n",
      " 25  Opp to ask          1200 non-null   int32  \n",
      "dtypes: float64(8), int32(6), int64(12)\n",
      "memory usage: 215.8 KB\n"
     ]
    }
   ],
   "source": [
    "test_df.info()"
   ]
  },
  {
   "cell_type": "markdown",
   "id": "7a6fd7cb",
   "metadata": {},
   "source": [
    "## Correlation "
   ]
  },
  {
   "cell_type": "code",
   "execution_count": 39,
   "id": "62958c7a",
   "metadata": {},
   "outputs": [
    {
     "data": {
      "text/plain": [
       "<AxesSubplot:>"
      ]
     },
     "execution_count": 39,
     "metadata": {},
     "output_type": "execute_result"
    },
    {
     "data": {
      "image/png": "[encoded data removed]",
      "text/plain": [
       "<Figure size 1440x1440 with 2 Axes>"
      ]
     },
     "metadata": {
      "needs_background": "light"
     },
     "output_type": "display_data"
    }
   ],
   "source": [
    "plt.figure(figsize=(20,20))\n",
    "sns.heatmap(np.abs(train_df.corr())>0.05,annot=True)"
   ]
  },
  {
   "cell_type": "markdown",
   "id": "89c3c049",
   "metadata": {},
   "source": [
    "## Dropping Unnecessary columns"
   ]
  },
  {
   "cell_type": "raw",
   "id": "a4f1eb2f",
   "metadata": {},
   "source": [
    "Since, 'Interview id' and 'Candidate id' are unique for each record, that is, it doesn't have much correlation to target variable and does not add much value in our final model. Hence we'll drop these columns."
   ]
  },
  {
   "cell_type": "code",
   "execution_count": 40,
   "id": "9ec0b557",
   "metadata": {},
   "outputs": [
    {
     "data": {
      "text/plain": [
       "Index(['Interview Id', 'Candidate Id', 'Interviewer Id', 'Profile', 'S.L.R.C',\n",
       "       'S.L.R.I', 'A.T.T', 'L.M.I', 'L.M.C', 'S.R', 'L.J.T.C', 'L.J.T.I',\n",
       "       'N.I.C', 'N.I.I', 'S.P.I', 'S.P.C', 'L.A.C', 'L.A.I', 'Q.A', 'P.E.I',\n",
       "       'P.E.C', 'COMPLIANCE Ratio', 'Interview duration', 'Interviewer Intro',\n",
       "       'Candidate into', 'Opp to ask', 'Status'],\n",
       "      dtype='object')"
      ]
     },
     "execution_count": 40,
     "metadata": {},
     "output_type": "execute_result"
    }
   ],
   "source": [
    "train_df.columns"
   ]
  },
  {
   "cell_type": "raw",
   "id": "7382b929",
   "metadata": {},
   "source": [
    "train_df = train_df.drop(['Interview Id','Candidate Id'],axis=1)"
   ]
  },
  {
   "cell_type": "code",
   "execution_count": 41,
   "id": "6b9f0d3f",
   "metadata": {},
   "outputs": [],
   "source": [
    "Interview_id = test_df['Interview Id']"
   ]
  },
  {
   "cell_type": "raw",
   "id": "9af997c9",
   "metadata": {},
   "source": [
    "test_df = test_df.drop(['Interview Id','Candidate Id'],axis=1)"
   ]
  },
  {
   "cell_type": "markdown",
   "id": "7f9b3b3a",
   "metadata": {},
   "source": [
    "## Checking Class balance"
   ]
  },
  {
   "cell_type": "code",
   "execution_count": 42,
   "id": "00143f55",
   "metadata": {},
   "outputs": [
    {
     "data": {
      "text/plain": [
       "0    2311\n",
       "1    1890\n",
       "2    1595\n",
       "Name: Status, dtype: int64"
      ]
     },
     "execution_count": 42,
     "metadata": {},
     "output_type": "execute_result"
    }
   ],
   "source": [
    "train_df.Status.value_counts()"
   ]
  },
  {
   "cell_type": "code",
   "execution_count": 43,
   "id": "a9f0ccb0",
   "metadata": {},
   "outputs": [
    {
     "data": {
      "text/plain": [
       "<BarContainer object of 3 artists>"
      ]
     },
     "execution_count": 43,
     "metadata": {},
     "output_type": "execute_result"
    },
    {
     "data": {
      "image/png": "[encoded data removed]",
      "text/plain": [
       "<Figure size 432x288 with 1 Axes>"
      ]
     },
     "metadata": {
      "needs_background": "light"
     },
     "output_type": "display_data"
    }
   ],
   "source": [
    "plt.bar(train_df.Status.unique(),train_df.Status.value_counts())"
   ]
  },
  {
   "cell_type": "raw",
   "id": "46f212dd",
   "metadata": {},
   "source": [
    "We can see that, we do not have equal proportion of records for all the classes, hence, if we are getting lower accuracy for class 2 or 3, we'll add duplicate records for the class which is under representated."
   ]
  },
  {
   "cell_type": "markdown",
   "id": "fa522aa9",
   "metadata": {},
   "source": [
    "#### We have done all the preprocessing for data, now we can move towards model building"
   ]
  },
  {
   "cell_type": "markdown",
   "id": "1cc065c4",
   "metadata": {},
   "source": [
    "## Train-Test Split"
   ]
  },
  {
   "cell_type": "code",
   "execution_count": 44,
   "id": "be376f5c",
   "metadata": {},
   "outputs": [],
   "source": [
    "from sklearn.model_selection import train_test_split"
   ]
  },
  {
   "cell_type": "code",
   "execution_count": 45,
   "id": "35fc1d39",
   "metadata": {},
   "outputs": [],
   "source": [
    "train,test = train_test_split(train_df,train_size=0.75,shuffle=True)"
   ]
  },
  {
   "cell_type": "code",
   "execution_count": 46,
   "id": "c38bfec3",
   "metadata": {},
   "outputs": [
    {
     "name": "stdout",
     "output_type": "stream",
     "text": [
      "Train data size:  4347 \n",
      "Test data size:   1449\n"
     ]
    }
   ],
   "source": [
    "print(\"Train data size: \", len(train),'\\nTest data size:  ',len(test))"
   ]
  },
  {
   "cell_type": "code",
   "execution_count": 47,
   "id": "dc9c31f0",
   "metadata": {},
   "outputs": [],
   "source": [
    "train_x = train.iloc[:,:-1]\n",
    "train_y = train.iloc[:,-1]"
   ]
  },
  {
   "cell_type": "code",
   "execution_count": 48,
   "id": "89b9cd20",
   "metadata": {},
   "outputs": [],
   "source": [
    "test_x = test.iloc[:,:-1]\n",
    "test_y = test.iloc[:,-1]"
   ]
  },
  {
   "cell_type": "code",
   "execution_count": 49,
   "id": "0135e5d4",
   "metadata": {},
   "outputs": [
    {
     "data": {
      "text/plain": [
       "((4347, 26), (4347,), (1449, 26), (1449,))"
      ]
     },
     "execution_count": 49,
     "metadata": {},
     "output_type": "execute_result"
    }
   ],
   "source": [
    "train_x.shape,train_y.shape,test_x.shape,test_y.shape"
   ]
  },
  {
   "cell_type": "markdown",
   "id": "3c465353",
   "metadata": {},
   "source": [
    "## Model Building"
   ]
  },
  {
   "cell_type": "code",
   "execution_count": 50,
   "id": "d6d88191",
   "metadata": {},
   "outputs": [],
   "source": [
    "from sklearn.metrics import accuracy_score,confusion_matrix"
   ]
  },
  {
   "cell_type": "code",
   "execution_count": 1,
   "id": "126dbeaf",
   "metadata": {},
   "outputs": [],
   "source": [
    "from sklearn.model_selection import GridSearchCV"
   ]
  },
  {
   "cell_type": "markdown",
   "id": "088907a2",
   "metadata": {},
   "source": [
    "#### Decision Tree"
   ]
  },
  {
   "cell_type": "code",
   "execution_count": 52,
   "id": "b11e11ea",
   "metadata": {},
   "outputs": [],
   "source": [
    "from sklearn.tree import DecisionTreeClassifier"
   ]
  },
  {
   "cell_type": "code",
   "execution_count": 53,
   "id": "69e5c6a2",
   "metadata": {},
   "outputs": [],
   "source": [
    "dt = DecisionTreeClassifier()"
   ]
  },
  {
   "cell_type": "code",
   "execution_count": 54,
   "id": "cb7a7ae6",
   "metadata": {},
   "outputs": [],
   "source": [
    "params_dt = [{'criterion' : ['gini',\"entropy\"],\n",
    "          'splitter' : [\"best\", \"random\"],\n",
    "          'class_weight' : ['None','balanced'],\n",
    "          'max_depth':list(range(10,20+1)),\n",
    "           'min_samples_split':list(range(2,11))\n",
    "          }]"
   ]
  },
  {
   "cell_type": "code",
   "execution_count": 55,
   "id": "46d0e34f",
   "metadata": {},
   "outputs": [],
   "source": [
    "gs_dt = GridSearchCV(dt,\n",
    "             param_grid=params_dt,\n",
    "             scoring='accuracy',\n",
    "             cv=5)"
   ]
  },
  {
   "cell_type": "code",
   "execution_count": 56,
   "id": "e7acac2e",
   "metadata": {},
   "outputs": [
    {
     "data": {
      "text/plain": [
       "GridSearchCV(cv=5, estimator=DecisionTreeClassifier(),\n",
       "             param_grid=[{'class_weight': ['None', 'balanced'],\n",
       "                          'criterion': ['gini', 'entropy'],\n",
       "                          'max_depth': [10, 11, 12, 13, 14, 15, 16, 17, 18, 19,\n",
       "                                        20],\n",
       "                          'min_samples_split': [2, 3, 4, 5, 6, 7, 8, 9, 10],\n",
       "                          'splitter': ['best', 'random']}],\n",
       "             scoring='accuracy')"
      ]
     },
     "execution_count": 56,
     "metadata": {},
     "output_type": "execute_result"
    }
   ],
   "source": [
    "gs_dt.fit(train_x,train_y)"
   ]
  },
  {
   "cell_type": "code",
   "execution_count": 57,
   "id": "2bf6b786",
   "metadata": {},
   "outputs": [
    {
     "data": {
      "text/plain": [
       "{'class_weight': 'balanced',\n",
       " 'criterion': 'entropy',\n",
       " 'max_depth': 17,\n",
       " 'min_samples_split': 5,\n",
       " 'splitter': 'best'}"
      ]
     },
     "execution_count": 57,
     "metadata": {},
     "output_type": "execute_result"
    }
   ],
   "source": [
    "gs_dt.best_params_"
   ]
  },
  {
   "cell_type": "code",
   "execution_count": 58,
   "id": "633a611d",
   "metadata": {},
   "outputs": [
    {
     "data": {
      "text/plain": [
       "0.8663439281509993"
      ]
     },
     "execution_count": 58,
     "metadata": {},
     "output_type": "execute_result"
    }
   ],
   "source": [
    "gs_dt.best_score_"
   ]
  },
  {
   "cell_type": "code",
   "execution_count": 59,
   "id": "f6d289fb",
   "metadata": {},
   "outputs": [
    {
     "data": {
      "text/plain": [
       "DecisionTreeClassifier(class_weight='balanced', criterion='entropy',\n",
       "                       max_depth=17, min_samples_split=5)"
      ]
     },
     "execution_count": 59,
     "metadata": {},
     "output_type": "execute_result"
    }
   ],
   "source": [
    "dt = DecisionTreeClassifier(class_weight = 'balanced',\n",
    "                            criterion = 'entropy', \n",
    "                            splitter = 'best',\n",
    "                           max_depth = 17,\n",
    "                           min_samples_split = 5)\n",
    "dt.fit(train_x,train_y) "
   ]
  },
  {
   "cell_type": "code",
   "execution_count": 60,
   "id": "19c1b68b",
   "metadata": {},
   "outputs": [],
   "source": [
    "dt_pred = dt.predict(test_x)"
   ]
  },
  {
   "cell_type": "code",
   "execution_count": 61,
   "id": "e81cdfab",
   "metadata": {},
   "outputs": [
    {
     "data": {
      "text/plain": [
       "0.8633540372670807"
      ]
     },
     "execution_count": 61,
     "metadata": {},
     "output_type": "execute_result"
    }
   ],
   "source": [
    "accuracy_score(test_y,dt_pred)"
   ]
  },
  {
   "cell_type": "code",
   "execution_count": 62,
   "id": "1751fbaa",
   "metadata": {},
   "outputs": [
    {
     "data": {
      "text/plain": [
       "array([[533,  43,   0],\n",
       "       [ 52, 377,  49],\n",
       "       [  0,  54, 341]], dtype=int64)"
      ]
     },
     "execution_count": 62,
     "metadata": {},
     "output_type": "execute_result"
    }
   ],
   "source": [
    "confusion_matrix(test_y,dt_pred)"
   ]
  },
  {
   "cell_type": "markdown",
   "id": "f4e75fca",
   "metadata": {},
   "source": [
    "#### Random Forest"
   ]
  },
  {
   "cell_type": "code",
   "execution_count": 63,
   "id": "b9d13597",
   "metadata": {},
   "outputs": [],
   "source": [
    "from sklearn.ensemble import RandomForestClassifier"
   ]
  },
  {
   "cell_type": "code",
   "execution_count": 64,
   "id": "fe27fdb7",
   "metadata": {},
   "outputs": [],
   "source": [
    "rf = RandomForestClassifier()"
   ]
  },
  {
   "cell_type": "code",
   "execution_count": 65,
   "id": "d8288136",
   "metadata": {},
   "outputs": [],
   "source": [
    "params_rf = [{'criterion' : ['gini',\"entropy\"],\n",
    "           'n_estimators' : list(range(100,106)),\n",
    "           'class_weight' : ['None','balanced'],\n",
    "          'max_depth':list(range(13,18))\n",
    "          }]"
   ]
  },
  {
   "cell_type": "code",
   "execution_count": 66,
   "id": "dcdf0cdd",
   "metadata": {},
   "outputs": [],
   "source": [
    "gs_rf = GridSearchCV(rf,\n",
    "             param_grid=params_rf,\n",
    "             scoring='accuracy',\n",
    "             cv=5)"
   ]
  },
  {
   "cell_type": "code",
   "execution_count": 67,
   "id": "3db53e15",
   "metadata": {},
   "outputs": [],
   "source": [
    "import time"
   ]
  },
  {
   "cell_type": "code",
   "execution_count": 68,
   "id": "dafb9510",
   "metadata": {},
   "outputs": [
    {
     "data": {
      "text/plain": [
       "225.3225736618042"
      ]
     },
     "execution_count": 68,
     "metadata": {},
     "output_type": "execute_result"
    }
   ],
   "source": [
    "start = time.time()\n",
    "gs_rf.fit(train_x,train_y)\n",
    "end = time.time()\n",
    "end-start"
   ]
  },
  {
   "cell_type": "code",
   "execution_count": 69,
   "id": "400d025d",
   "metadata": {},
   "outputs": [
    {
     "data": {
      "text/plain": [
       "{'class_weight': 'balanced',\n",
       " 'criterion': 'entropy',\n",
       " 'max_depth': 13,\n",
       " 'n_estimators': 103}"
      ]
     },
     "execution_count": 69,
     "metadata": {},
     "output_type": "execute_result"
    }
   ],
   "source": [
    "gs_rf.best_params_"
   ]
  },
  {
   "cell_type": "code",
   "execution_count": 70,
   "id": "9d466cc5",
   "metadata": {},
   "outputs": [
    {
     "data": {
      "text/plain": [
       "0.9139663769956219"
      ]
     },
     "execution_count": 70,
     "metadata": {},
     "output_type": "execute_result"
    }
   ],
   "source": [
    "gs_rf.best_score_"
   ]
  },
  {
   "cell_type": "code",
   "execution_count": 71,
   "id": "52e96f48",
   "metadata": {},
   "outputs": [
    {
     "data": {
      "text/plain": [
       "RandomForestClassifier(class_weight='balanced', criterion='entropy',\n",
       "                       max_depth=14, n_estimators=105)"
      ]
     },
     "execution_count": 71,
     "metadata": {},
     "output_type": "execute_result"
    }
   ],
   "source": [
    "rf = RandomForestClassifier(class_weight = 'balanced',\n",
    "                            criterion = 'entropy', \n",
    "                            n_estimators = 105,\n",
    "                           max_depth = 14\n",
    "                           )\n",
    "rf.fit(train_x,train_y) "
   ]
  },
  {
   "cell_type": "code",
   "execution_count": 72,
   "id": "dc32816a",
   "metadata": {},
   "outputs": [],
   "source": [
    "rf_pred = rf.predict(test_x)"
   ]
  },
  {
   "cell_type": "code",
   "execution_count": 73,
   "id": "05c7d0c5",
   "metadata": {},
   "outputs": [
    {
     "data": {
      "text/plain": [
       "0.893719806763285"
      ]
     },
     "execution_count": 73,
     "metadata": {},
     "output_type": "execute_result"
    }
   ],
   "source": [
    "accuracy_score(test_y,rf_pred)"
   ]
  },
  {
   "cell_type": "code",
   "execution_count": 74,
   "id": "1b79c56c",
   "metadata": {},
   "outputs": [
    {
     "data": {
      "text/plain": [
       "array([[557,  19,   0],\n",
       "       [ 50, 375,  53],\n",
       "       [  0,  32, 363]], dtype=int64)"
      ]
     },
     "execution_count": 74,
     "metadata": {},
     "output_type": "execute_result"
    }
   ],
   "source": [
    "confusion_matrix(test_y,rf_pred)"
   ]
  },
  {
   "cell_type": "markdown",
   "id": "e29ceebc",
   "metadata": {},
   "source": [
    "#### AdaBoost"
   ]
  },
  {
   "cell_type": "code",
   "execution_count": 75,
   "id": "10313e32",
   "metadata": {},
   "outputs": [],
   "source": [
    "from sklearn.ensemble import AdaBoostClassifier"
   ]
  },
  {
   "cell_type": "code",
   "execution_count": 76,
   "id": "633db2ed",
   "metadata": {},
   "outputs": [],
   "source": [
    "abc_dt = AdaBoostClassifier(dt)\n",
    "abc_rf = AdaBoostClassifier(rf)"
   ]
  },
  {
   "cell_type": "code",
   "execution_count": 77,
   "id": "15e6eb60",
   "metadata": {},
   "outputs": [
    {
     "data": {
      "text/plain": [
       "AdaBoostClassifier(base_estimator=DecisionTreeClassifier(class_weight='balanced',\n",
       "                                                         criterion='entropy',\n",
       "                                                         max_depth=17,\n",
       "                                                         min_samples_split=5))"
      ]
     },
     "execution_count": 77,
     "metadata": {},
     "output_type": "execute_result"
    }
   ],
   "source": [
    "abc_dt.fit(train_x,train_y)"
   ]
  },
  {
   "cell_type": "code",
   "execution_count": 78,
   "id": "8675afd6",
   "metadata": {},
   "outputs": [],
   "source": [
    "abc_dt_pred = abc_dt.predict(test_x)"
   ]
  },
  {
   "cell_type": "code",
   "execution_count": 79,
   "id": "0a839c78",
   "metadata": {},
   "outputs": [
    {
     "data": {
      "text/plain": [
       "0.8875086266390614"
      ]
     },
     "execution_count": 79,
     "metadata": {},
     "output_type": "execute_result"
    }
   ],
   "source": [
    "accuracy_score(test_y,abc_dt_pred)"
   ]
  },
  {
   "cell_type": "code",
   "execution_count": 80,
   "id": "cdad703c",
   "metadata": {},
   "outputs": [
    {
     "data": {
      "text/plain": [
       "AdaBoostClassifier(base_estimator=RandomForestClassifier(class_weight='balanced',\n",
       "                                                         criterion='entropy',\n",
       "                                                         max_depth=14,\n",
       "                                                         n_estimators=105))"
      ]
     },
     "execution_count": 80,
     "metadata": {},
     "output_type": "execute_result"
    }
   ],
   "source": [
    "abc_rf.fit(train_x,train_y)"
   ]
  },
  {
   "cell_type": "code",
   "execution_count": 81,
   "id": "f889ce78",
   "metadata": {},
   "outputs": [],
   "source": [
    "abc_rf_pred = abc_rf.predict(test_x)"
   ]
  },
  {
   "cell_type": "code",
   "execution_count": 82,
   "id": "ff55a1a5",
   "metadata": {},
   "outputs": [
    {
     "data": {
      "text/plain": [
       "0.8868184955141477"
      ]
     },
     "execution_count": 82,
     "metadata": {},
     "output_type": "execute_result"
    }
   ],
   "source": [
    "accuracy_score(test_y,abc_rf_pred)"
   ]
  },
  {
   "cell_type": "code",
   "execution_count": 83,
   "id": "8c381d6b",
   "metadata": {},
   "outputs": [
    {
     "data": {
      "text/plain": [
       "array([[556,  20,   0],\n",
       "       [ 60, 366,  52],\n",
       "       [  0,  32, 363]], dtype=int64)"
      ]
     },
     "execution_count": 83,
     "metadata": {},
     "output_type": "execute_result"
    }
   ],
   "source": [
    "confusion_matrix(test_y,abc_rf_pred)"
   ]
  },
  {
   "cell_type": "markdown",
   "id": "d438e3c9",
   "metadata": {},
   "source": [
    "#### Voting Classifier\n",
    "\n",
    "A voting Classifier is an ensemble meta-estimator that fits several base Classifiers, each on the whole dataset. Then it averages the individual predictions to form a final prediction."
   ]
  },
  {
   "cell_type": "code",
   "execution_count": 84,
   "id": "649aa6a6",
   "metadata": {},
   "outputs": [],
   "source": [
    "from sklearn.ensemble import VotingClassifier"
   ]
  },
  {
   "cell_type": "code",
   "execution_count": 85,
   "id": "964b976c",
   "metadata": {},
   "outputs": [],
   "source": [
    "model_vr = VotingClassifier([('Model_DT', dt), ('Model_RF', rf), ('Model_ABC_DT', abc_dt),('Model_ABC_RF', abc_rf)]).fit(train_x, train_y)"
   ]
  },
  {
   "cell_type": "code",
   "execution_count": 86,
   "id": "8d7ea44c",
   "metadata": {},
   "outputs": [],
   "source": [
    "model_vr_pred = model_vr.predict(test_x)"
   ]
  },
  {
   "cell_type": "code",
   "execution_count": 87,
   "id": "732247e8",
   "metadata": {},
   "outputs": [
    {
     "data": {
      "text/plain": [
       "0.8930296756383713"
      ]
     },
     "execution_count": 87,
     "metadata": {},
     "output_type": "execute_result"
    }
   ],
   "source": [
    "accuracy_score(test_y,model_vr_pred)"
   ]
  },
  {
   "cell_type": "code",
   "execution_count": 88,
   "id": "9b343de8",
   "metadata": {},
   "outputs": [
    {
     "data": {
      "text/plain": [
       "array([[558,  18,   0],\n",
       "       [ 67, 376,  35],\n",
       "       [  0,  35, 360]], dtype=int64)"
      ]
     },
     "execution_count": 88,
     "metadata": {},
     "output_type": "execute_result"
    }
   ],
   "source": [
    "confusion_matrix(test_y,model_vr_pred)"
   ]
  },
  {
   "cell_type": "markdown",
   "id": "bb104cf3",
   "metadata": {},
   "source": [
    "#### Bagging Classifier\n",
    "\n",
    "A Bagging Classifier is an ensemble meta-estimator that fits base Classifiers each on random subsets of the original dataset and then aggregate their individual predictions by averaging to form a final prediction. "
   ]
  },
  {
   "cell_type": "code",
   "execution_count": 89,
   "id": "f9bacd1a",
   "metadata": {},
   "outputs": [],
   "source": [
    "from sklearn.ensemble import BaggingClassifier"
   ]
  },
  {
   "cell_type": "code",
   "execution_count": 90,
   "id": "b6091287",
   "metadata": {},
   "outputs": [
    {
     "data": {
      "text/plain": [
       "0.9109730848861284"
      ]
     },
     "execution_count": 90,
     "metadata": {},
     "output_type": "execute_result"
    }
   ],
   "source": [
    "model_br_dt = BaggingClassifier(dt).fit(train_x, train_y)\n",
    "model_br_dt_pred= model_br_dt.predict(test_x)\n",
    "accuracy_score(test_y, model_br_dt_pred)"
   ]
  },
  {
   "cell_type": "code",
   "execution_count": 91,
   "id": "20cee910",
   "metadata": {},
   "outputs": [
    {
     "data": {
      "text/plain": [
       "array([[548,  28,   0],\n",
       "       [ 35, 413,  30],\n",
       "       [  0,  36, 359]], dtype=int64)"
      ]
     },
     "execution_count": 91,
     "metadata": {},
     "output_type": "execute_result"
    }
   ],
   "source": [
    "confusion_matrix(test_y,model_br_dt_pred)"
   ]
  },
  {
   "cell_type": "code",
   "execution_count": 92,
   "id": "6b2e083a",
   "metadata": {},
   "outputs": [
    {
     "data": {
      "text/plain": [
       "0.8916494133885439"
      ]
     },
     "execution_count": 92,
     "metadata": {},
     "output_type": "execute_result"
    }
   ],
   "source": [
    "model_br_rf = BaggingClassifier(rf).fit(train_x, train_y)\n",
    "model_br_rf_pred= model_br_rf.predict(test_x)\n",
    "accuracy_score(test_y, model_br_rf_pred)"
   ]
  },
  {
   "cell_type": "code",
   "execution_count": 93,
   "id": "95aa9d4e",
   "metadata": {},
   "outputs": [
    {
     "data": {
      "text/plain": [
       "array([[557,  19,   0],\n",
       "       [ 57, 372,  49],\n",
       "       [  0,  32, 363]], dtype=int64)"
      ]
     },
     "execution_count": 93,
     "metadata": {},
     "output_type": "execute_result"
    }
   ],
   "source": [
    "confusion_matrix(test_y,model_br_rf_pred)"
   ]
  },
  {
   "cell_type": "code",
   "execution_count": 94,
   "id": "8726bdd5",
   "metadata": {},
   "outputs": [
    {
     "data": {
      "text/plain": [
       "0.8792270531400966"
      ]
     },
     "execution_count": 94,
     "metadata": {},
     "output_type": "execute_result"
    }
   ],
   "source": [
    "model_br_abc_dt = BaggingClassifier(abc_dt).fit(train_x, train_y)\n",
    "model_br_abc_dt_pred= model_br_abc_dt.predict(test_x)\n",
    "accuracy_score(test_y, model_br_abc_dt_pred)"
   ]
  },
  {
   "cell_type": "code",
   "execution_count": 95,
   "id": "30727443",
   "metadata": {},
   "outputs": [
    {
     "data": {
      "text/plain": [
       "array([[548,  28,   0],\n",
       "       [ 59, 363,  56],\n",
       "       [  0,  32, 363]], dtype=int64)"
      ]
     },
     "execution_count": 95,
     "metadata": {},
     "output_type": "execute_result"
    }
   ],
   "source": [
    "confusion_matrix(test_y,model_br_abc_dt_pred)"
   ]
  },
  {
   "cell_type": "code",
   "execution_count": 96,
   "id": "f3790d62",
   "metadata": {},
   "outputs": [
    {
     "data": {
      "text/plain": [
       "0.893719806763285"
      ]
     },
     "execution_count": 96,
     "metadata": {},
     "output_type": "execute_result"
    }
   ],
   "source": [
    "model_br_abc_rf = BaggingClassifier(abc_rf).fit(train_x, train_y)\n",
    "model_br_abc_rf_pred= model_br_abc_rf.predict(test_x)\n",
    "accuracy_score(test_y, model_br_abc_rf_pred)"
   ]
  },
  {
   "cell_type": "code",
   "execution_count": 97,
   "id": "db29270c",
   "metadata": {},
   "outputs": [
    {
     "data": {
      "text/plain": [
       "array([[555,  21,   0],\n",
       "       [ 58, 371,  49],\n",
       "       [  0,  26, 369]], dtype=int64)"
      ]
     },
     "execution_count": 97,
     "metadata": {},
     "output_type": "execute_result"
    }
   ],
   "source": [
    "confusion_matrix(test_y,model_br_abc_rf_pred)"
   ]
  },
  {
   "cell_type": "markdown",
   "id": "ec9165f8",
   "metadata": {},
   "source": [
    "#### Stacking Classifier\n",
    "\n",
    "In this strategy, some \"base estimators\" are individually fitted on some training data while a \"final estimator\" is trained using the stacked predictions of these base estimators."
   ]
  },
  {
   "cell_type": "code",
   "execution_count": 98,
   "id": "64541439",
   "metadata": {},
   "outputs": [],
   "source": [
    "from sklearn.ensemble import StackingClassifier"
   ]
  },
  {
   "cell_type": "code",
   "execution_count": 99,
   "id": "973c2ad4",
   "metadata": {},
   "outputs": [],
   "source": [
    "baseModels = [('Model_DT', dt), ('Model_RF', rf), ('Model_ABC_DT', abc_dt)]\n",
    "finalModel = abc_rf"
   ]
  },
  {
   "cell_type": "code",
   "execution_count": 100,
   "id": "7f81f162",
   "metadata": {},
   "outputs": [],
   "source": [
    "model_sr = StackingClassifier(estimators = baseModels, final_estimator = finalModel).fit(train_x, train_y)"
   ]
  },
  {
   "cell_type": "code",
   "execution_count": 101,
   "id": "796efd59",
   "metadata": {},
   "outputs": [],
   "source": [
    "model_sr_pred = model_sr.predict(test_x)"
   ]
  },
  {
   "cell_type": "code",
   "execution_count": 102,
   "id": "834d1f95",
   "metadata": {},
   "outputs": [
    {
     "data": {
      "text/plain": [
       "0.8971704623878537"
      ]
     },
     "execution_count": 102,
     "metadata": {},
     "output_type": "execute_result"
    }
   ],
   "source": [
    "accuracy_score(test_y,model_sr_pred)"
   ]
  },
  {
   "cell_type": "code",
   "execution_count": 103,
   "id": "55352359",
   "metadata": {},
   "outputs": [
    {
     "data": {
      "text/plain": [
       "array([[549,  27,   0],\n",
       "       [ 50, 388,  40],\n",
       "       [  0,  32, 363]], dtype=int64)"
      ]
     },
     "execution_count": 103,
     "metadata": {},
     "output_type": "execute_result"
    }
   ],
   "source": [
    "confusion_matrix(test_y,model_sr_pred)"
   ]
  },
  {
   "cell_type": "markdown",
   "id": "ac9a79ae",
   "metadata": {},
   "source": [
    "#### Handling Class Imbalance"
   ]
  },
  {
   "cell_type": "code",
   "execution_count": 104,
   "id": "f99590ac",
   "metadata": {},
   "outputs": [],
   "source": [
    "class_2 = train_df[train_df.Status==1]\n",
    "class_3 = train_df[train_df.Status==2]"
   ]
  },
  {
   "cell_type": "code",
   "execution_count": 105,
   "id": "e36e15d2",
   "metadata": {
    "scrolled": true
   },
   "outputs": [
    {
     "data": {
      "text/plain": [
       "0    1735\n",
       "1    1412\n",
       "2    1200\n",
       "Name: Status, dtype: int64"
      ]
     },
     "execution_count": 105,
     "metadata": {},
     "output_type": "execute_result"
    }
   ],
   "source": [
    "train.Status.value_counts()"
   ]
  },
  {
   "cell_type": "code",
   "execution_count": 106,
   "id": "33298fe7",
   "metadata": {},
   "outputs": [],
   "source": [
    "class_2_sample = class_2.sample(300)\n",
    "class_3_sample = class_3.sample(550)"
   ]
  },
  {
   "cell_type": "code",
   "execution_count": 107,
   "id": "08f95f6b",
   "metadata": {},
   "outputs": [],
   "source": [
    "train = pd.concat([train,class_2_sample,class_3_sample])"
   ]
  },
  {
   "cell_type": "code",
   "execution_count": 108,
   "id": "fd4015e7",
   "metadata": {},
   "outputs": [
    {
     "data": {
      "text/plain": [
       "2    1750\n",
       "0    1735\n",
       "1    1712\n",
       "Name: Status, dtype: int64"
      ]
     },
     "execution_count": 108,
     "metadata": {},
     "output_type": "execute_result"
    }
   ],
   "source": [
    "train.Status.value_counts()"
   ]
  },
  {
   "cell_type": "code",
   "execution_count": 109,
   "id": "51efa09c",
   "metadata": {},
   "outputs": [
    {
     "name": "stdout",
     "output_type": "stream",
     "text": [
      "Train data size:  5197 \n",
      "Test data size:   1449\n"
     ]
    }
   ],
   "source": [
    "print(\"Train data size: \", len(train),'\\nTest data size:  ',len(test))"
   ]
  },
  {
   "cell_type": "code",
   "execution_count": 110,
   "id": "de6f31b9",
   "metadata": {},
   "outputs": [],
   "source": [
    "train_x = train.iloc[:,:-1]\n",
    "train_y = train.iloc[:,-1]"
   ]
  },
  {
   "cell_type": "markdown",
   "id": "bebf28a3",
   "metadata": {},
   "source": [
    "### Models after Balancing classes"
   ]
  },
  {
   "cell_type": "markdown",
   "id": "8a4fe64b",
   "metadata": {},
   "source": [
    "#### Decision Tree"
   ]
  },
  {
   "cell_type": "code",
   "execution_count": 111,
   "id": "843882f8",
   "metadata": {},
   "outputs": [],
   "source": [
    "from sklearn.tree import DecisionTreeClassifier"
   ]
  },
  {
   "cell_type": "code",
   "execution_count": 112,
   "id": "a49eb967",
   "metadata": {},
   "outputs": [],
   "source": [
    "dt = DecisionTreeClassifier()"
   ]
  },
  {
   "cell_type": "code",
   "execution_count": 113,
   "id": "d2bb480c",
   "metadata": {},
   "outputs": [],
   "source": [
    "params_dt = [{'criterion' : ['gini',\"entropy\"],\n",
    "          'splitter' : [\"best\", \"random\"],\n",
    "          'class_weight' : ['None','balanced'],\n",
    "          'max_depth':list(range(10,20+1)),\n",
    "           'min_samples_split':list(range(2,11))\n",
    "          }]"
   ]
  },
  {
   "cell_type": "code",
   "execution_count": 114,
   "id": "48188ee8",
   "metadata": {},
   "outputs": [],
   "source": [
    "gs_dt = GridSearchCV(dt,\n",
    "             param_grid=params_dt,\n",
    "             scoring='accuracy',\n",
    "             cv=5)"
   ]
  },
  {
   "cell_type": "code",
   "execution_count": 115,
   "id": "59623405",
   "metadata": {},
   "outputs": [
    {
     "data": {
      "text/plain": [
       "GridSearchCV(cv=5, estimator=DecisionTreeClassifier(),\n",
       "             param_grid=[{'class_weight': ['None', 'balanced'],\n",
       "                          'criterion': ['gini', 'entropy'],\n",
       "                          'max_depth': [10, 11, 12, 13, 14, 15, 16, 17, 18, 19,\n",
       "                                        20],\n",
       "                          'min_samples_split': [2, 3, 4, 5, 6, 7, 8, 9, 10],\n",
       "                          'splitter': ['best', 'random']}],\n",
       "             scoring='accuracy')"
      ]
     },
     "execution_count": 115,
     "metadata": {},
     "output_type": "execute_result"
    }
   ],
   "source": [
    "gs_dt.fit(train_x,train_y)"
   ]
  },
  {
   "cell_type": "code",
   "execution_count": 116,
   "id": "4fd681ad",
   "metadata": {},
   "outputs": [
    {
     "data": {
      "text/plain": [
       "{'class_weight': 'balanced',\n",
       " 'criterion': 'entropy',\n",
       " 'max_depth': 15,\n",
       " 'min_samples_split': 3,\n",
       " 'splitter': 'best'}"
      ]
     },
     "execution_count": 116,
     "metadata": {},
     "output_type": "execute_result"
    }
   ],
   "source": [
    "gs_dt.best_params_"
   ]
  },
  {
   "cell_type": "code",
   "execution_count": 117,
   "id": "73daeb36",
   "metadata": {},
   "outputs": [
    {
     "data": {
      "text/plain": [
       "0.9064879321833125"
      ]
     },
     "execution_count": 117,
     "metadata": {},
     "output_type": "execute_result"
    }
   ],
   "source": [
    "gs_dt.best_score_"
   ]
  },
  {
   "cell_type": "code",
   "execution_count": 118,
   "id": "e33ac179",
   "metadata": {},
   "outputs": [
    {
     "data": {
      "text/plain": [
       "DecisionTreeClassifier(class_weight='balanced', criterion='entropy',\n",
       "                       max_depth=17, min_samples_split=5)"
      ]
     },
     "execution_count": 118,
     "metadata": {},
     "output_type": "execute_result"
    }
   ],
   "source": [
    "dt = DecisionTreeClassifier(class_weight = 'balanced',\n",
    "                            criterion = 'entropy', \n",
    "                            splitter = 'best',\n",
    "                           max_depth = 17,\n",
    "                           min_samples_split = 5)\n",
    "dt.fit(train_x,train_y) "
   ]
  },
  {
   "cell_type": "code",
   "execution_count": 119,
   "id": "cf03fd8b",
   "metadata": {},
   "outputs": [],
   "source": [
    "dt_pred = dt.predict(test_x)"
   ]
  },
  {
   "cell_type": "code",
   "execution_count": 120,
   "id": "1a5029e7",
   "metadata": {},
   "outputs": [
    {
     "data": {
      "text/plain": [
       "0.8771566597653554"
      ]
     },
     "execution_count": 120,
     "metadata": {},
     "output_type": "execute_result"
    }
   ],
   "source": [
    "accuracy_score(test_y,dt_pred)"
   ]
  },
  {
   "cell_type": "code",
   "execution_count": 121,
   "id": "4ff02d21",
   "metadata": {},
   "outputs": [
    {
     "data": {
      "text/plain": [
       "array([[534,  41,   1],\n",
       "       [ 40, 383,  55],\n",
       "       [  0,  41, 354]], dtype=int64)"
      ]
     },
     "execution_count": 121,
     "metadata": {},
     "output_type": "execute_result"
    }
   ],
   "source": [
    "confusion_matrix(test_y,dt_pred)"
   ]
  },
  {
   "cell_type": "markdown",
   "id": "b7f68d27",
   "metadata": {},
   "source": [
    "#### Random Forest"
   ]
  },
  {
   "cell_type": "code",
   "execution_count": 122,
   "id": "efe271e3",
   "metadata": {},
   "outputs": [],
   "source": [
    "from sklearn.ensemble import RandomForestClassifier"
   ]
  },
  {
   "cell_type": "code",
   "execution_count": 123,
   "id": "99f139b3",
   "metadata": {},
   "outputs": [],
   "source": [
    "rf = RandomForestClassifier()"
   ]
  },
  {
   "cell_type": "code",
   "execution_count": 124,
   "id": "39aea841",
   "metadata": {},
   "outputs": [],
   "source": [
    "params_rf = [{'criterion' : ['gini',\"entropy\"],\n",
    "           'n_estimators' : list(range(100,106)),\n",
    "           'class_weight' : ['None','balanced'],\n",
    "          'max_depth':list(range(13,18))\n",
    "          }]"
   ]
  },
  {
   "cell_type": "code",
   "execution_count": 125,
   "id": "e678511d",
   "metadata": {},
   "outputs": [],
   "source": [
    "gs_rf = GridSearchCV(rf,\n",
    "             param_grid=params_rf,\n",
    "             scoring='accuracy',\n",
    "             cv=5)"
   ]
  },
  {
   "cell_type": "code",
   "execution_count": 126,
   "id": "a4896497",
   "metadata": {},
   "outputs": [],
   "source": [
    "import time"
   ]
  },
  {
   "cell_type": "code",
   "execution_count": 127,
   "id": "e9627443",
   "metadata": {},
   "outputs": [
    {
     "data": {
      "text/plain": [
       "269.07401418685913"
      ]
     },
     "execution_count": 127,
     "metadata": {},
     "output_type": "execute_result"
    }
   ],
   "source": [
    "start = time.time()\n",
    "gs_rf.fit(train_x,train_y)\n",
    "end = time.time()\n",
    "end-start"
   ]
  },
  {
   "cell_type": "code",
   "execution_count": 128,
   "id": "84416069",
   "metadata": {},
   "outputs": [
    {
     "data": {
      "text/plain": [
       "{'class_weight': 'balanced',\n",
       " 'criterion': 'entropy',\n",
       " 'max_depth': 14,\n",
       " 'n_estimators': 105}"
      ]
     },
     "execution_count": 128,
     "metadata": {},
     "output_type": "execute_result"
    }
   ],
   "source": [
    "gs_rf.best_params_"
   ]
  },
  {
   "cell_type": "code",
   "execution_count": 129,
   "id": "6979223c",
   "metadata": {},
   "outputs": [
    {
     "data": {
      "text/plain": [
       "0.9378492633449322"
      ]
     },
     "execution_count": 129,
     "metadata": {},
     "output_type": "execute_result"
    }
   ],
   "source": [
    "gs_rf.best_score_"
   ]
  },
  {
   "cell_type": "code",
   "execution_count": 130,
   "id": "b34067b4",
   "metadata": {},
   "outputs": [
    {
     "data": {
      "text/plain": [
       "RandomForestClassifier(class_weight='balanced', criterion='entropy',\n",
       "                       max_depth=16, n_estimators=101)"
      ]
     },
     "execution_count": 130,
     "metadata": {},
     "output_type": "execute_result"
    }
   ],
   "source": [
    "rf = RandomForestClassifier(class_weight = 'balanced',\n",
    "                            criterion = 'entropy', \n",
    "                            n_estimators = 101,\n",
    "                           max_depth = 16\n",
    "                           )\n",
    "rf.fit(train_x,train_y) "
   ]
  },
  {
   "cell_type": "code",
   "execution_count": 131,
   "id": "1715cf05",
   "metadata": {},
   "outputs": [],
   "source": [
    "rf_pred = rf.predict(test_x)"
   ]
  },
  {
   "cell_type": "code",
   "execution_count": 132,
   "id": "5506557c",
   "metadata": {},
   "outputs": [
    {
     "data": {
      "text/plain": [
       "0.9061421670117322"
      ]
     },
     "execution_count": 132,
     "metadata": {},
     "output_type": "execute_result"
    }
   ],
   "source": [
    "accuracy_score(test_y,rf_pred)"
   ]
  },
  {
   "cell_type": "code",
   "execution_count": 133,
   "id": "61e3cf41",
   "metadata": {},
   "outputs": [
    {
     "data": {
      "text/plain": [
       "array([[550,  26,   0],\n",
       "       [ 47, 386,  45],\n",
       "       [  0,  18, 377]], dtype=int64)"
      ]
     },
     "execution_count": 133,
     "metadata": {},
     "output_type": "execute_result"
    }
   ],
   "source": [
    "confusion_matrix(test_y,rf_pred)"
   ]
  },
  {
   "cell_type": "markdown",
   "id": "15b350b8",
   "metadata": {},
   "source": [
    "#### AdaBoost"
   ]
  },
  {
   "cell_type": "code",
   "execution_count": 134,
   "id": "a8133a65",
   "metadata": {},
   "outputs": [],
   "source": [
    "from sklearn.ensemble import AdaBoostClassifier"
   ]
  },
  {
   "cell_type": "code",
   "execution_count": 135,
   "id": "d579e850",
   "metadata": {},
   "outputs": [],
   "source": [
    "abc_dt = AdaBoostClassifier(dt)\n",
    "abc_rf = AdaBoostClassifier(rf)"
   ]
  },
  {
   "cell_type": "code",
   "execution_count": 136,
   "id": "51f775f6",
   "metadata": {},
   "outputs": [
    {
     "data": {
      "text/plain": [
       "AdaBoostClassifier(base_estimator=DecisionTreeClassifier(class_weight='balanced',\n",
       "                                                         criterion='entropy',\n",
       "                                                         max_depth=17,\n",
       "                                                         min_samples_split=5))"
      ]
     },
     "execution_count": 136,
     "metadata": {},
     "output_type": "execute_result"
    }
   ],
   "source": [
    "abc_dt.fit(train_x,train_y)"
   ]
  },
  {
   "cell_type": "code",
   "execution_count": 137,
   "id": "d2d21448",
   "metadata": {},
   "outputs": [],
   "source": [
    "abc_dt_pred = abc_dt.predict(test_x)"
   ]
  },
  {
   "cell_type": "code",
   "execution_count": 138,
   "id": "f1b8e44b",
   "metadata": {},
   "outputs": [
    {
     "data": {
      "text/plain": [
       "0.8957902001380262"
      ]
     },
     "execution_count": 138,
     "metadata": {},
     "output_type": "execute_result"
    }
   ],
   "source": [
    "accuracy_score(test_y,abc_dt_pred)"
   ]
  },
  {
   "cell_type": "code",
   "execution_count": 139,
   "id": "4bbc2e81",
   "metadata": {},
   "outputs": [
    {
     "data": {
      "text/plain": [
       "AdaBoostClassifier(base_estimator=RandomForestClassifier(class_weight='balanced',\n",
       "                                                         criterion='entropy',\n",
       "                                                         max_depth=16,\n",
       "                                                         n_estimators=101))"
      ]
     },
     "execution_count": 139,
     "metadata": {},
     "output_type": "execute_result"
    }
   ],
   "source": [
    "abc_rf.fit(train_x,train_y)"
   ]
  },
  {
   "cell_type": "code",
   "execution_count": 140,
   "id": "403da5fc",
   "metadata": {},
   "outputs": [],
   "source": [
    "abc_rf_pred = abc_rf.predict(test_x)"
   ]
  },
  {
   "cell_type": "code",
   "execution_count": 141,
   "id": "975121ae",
   "metadata": {},
   "outputs": [
    {
     "data": {
      "text/plain": [
       "0.9164941338854382"
      ]
     },
     "execution_count": 141,
     "metadata": {},
     "output_type": "execute_result"
    }
   ],
   "source": [
    "accuracy_score(test_y,abc_rf_pred)"
   ]
  },
  {
   "cell_type": "code",
   "execution_count": 142,
   "id": "35b05038",
   "metadata": {
    "scrolled": true
   },
   "outputs": [
    {
     "data": {
      "text/plain": [
       "array([[554,  22,   0],\n",
       "       [ 37, 397,  44],\n",
       "       [  0,  18, 377]], dtype=int64)"
      ]
     },
     "execution_count": 142,
     "metadata": {},
     "output_type": "execute_result"
    }
   ],
   "source": [
    "confusion_matrix(test_y,abc_rf_pred)"
   ]
  },
  {
   "cell_type": "markdown",
   "id": "a74f8f8c",
   "metadata": {},
   "source": [
    "#### XGBoost"
   ]
  },
  {
   "cell_type": "code",
   "execution_count": 143,
   "id": "3c815fa0",
   "metadata": {},
   "outputs": [],
   "source": [
    "from xgboost import XGBClassifier"
   ]
  },
  {
   "cell_type": "code",
   "execution_count": 201,
   "id": "f9784b17",
   "metadata": {},
   "outputs": [],
   "source": [
    "xgb = XGBClassifier(n_estimators = 1000)"
   ]
  },
  {
   "cell_type": "code",
   "execution_count": 202,
   "id": "69be8d3c",
   "metadata": {},
   "outputs": [
    {
     "data": {
      "text/plain": [
       "XGBClassifier(base_score=0.5, booster='gbtree', callbacks=None,\n",
       "              colsample_bylevel=1, colsample_bynode=1, colsample_bytree=1,\n",
       "              early_stopping_rounds=None, enable_categorical=False,\n",
       "              eval_metric=None, gamma=0, gpu_id=-1, grow_policy='depthwise',\n",
       "              importance_type=None, interaction_constraints='',\n",
       "              learning_rate=0.300000012, max_bin=256, max_cat_to_onehot=4,\n",
       "              max_delta_step=0, max_depth=6, max_leaves=0, min_child_weight=1,\n",
       "              missing=nan, monotone_constraints='()', n_estimators=1000,\n",
       "              n_jobs=0, num_parallel_tree=1, objective='multi:softprob',\n",
       "              predictor='auto', random_state=0, reg_alpha=0, ...)"
      ]
     },
     "execution_count": 202,
     "metadata": {},
     "output_type": "execute_result"
    }
   ],
   "source": [
    "xgb.fit(train_x, train_y)"
   ]
  },
  {
   "cell_type": "code",
   "execution_count": 203,
   "id": "cc8fc2bf",
   "metadata": {},
   "outputs": [],
   "source": [
    "pred_xgb = xgb.predict(test_x)"
   ]
  },
  {
   "cell_type": "code",
   "execution_count": 204,
   "id": "d1c31d72",
   "metadata": {},
   "outputs": [
    {
     "data": {
      "text/plain": [
       "0.9516908212560387"
      ]
     },
     "execution_count": 204,
     "metadata": {},
     "output_type": "execute_result"
    }
   ],
   "source": [
    "accuracy_score(test_y,pred_xgb)"
   ]
  },
  {
   "cell_type": "code",
   "execution_count": 205,
   "id": "e9e16888",
   "metadata": {},
   "outputs": [
    {
     "data": {
      "text/plain": [
       "XGBClassifier(base_score=0.5, booster='gbtree', callbacks=None,\n",
       "              colsample_bylevel=1, colsample_bynode=1, colsample_bytree=1,\n",
       "              early_stopping_rounds=None, enable_categorical=False,\n",
       "              eval_metric=None, gamma=0, gpu_id=-1, grow_policy='depthwise',\n",
       "              importance_type=None, interaction_constraints='',\n",
       "              learning_rate=0.300000012, max_bin=256, max_cat_to_onehot=4,\n",
       "              max_delta_step=0, max_depth=6, max_leaves=0, min_child_weight=1,\n",
       "              missing=nan, monotone_constraints='()', n_estimators=1000,\n",
       "              n_jobs=0, num_parallel_tree=1, objective='multi:softprob',\n",
       "              predictor='auto', random_state=0, reg_alpha=0, ...)"
      ]
     },
     "execution_count": 205,
     "metadata": {},
     "output_type": "execute_result"
    }
   ],
   "source": [
    "xgb.fit(train_df.iloc[:,:-1],train_df.iloc[:,-1])"
   ]
  },
  {
   "cell_type": "markdown",
   "id": "c1798a92",
   "metadata": {},
   "source": [
    "#### LightGBM"
   ]
  },
  {
   "cell_type": "code",
   "execution_count": 149,
   "id": "37aba8fc",
   "metadata": {},
   "outputs": [],
   "source": [
    "from lightgbm import LGBMClassifier"
   ]
  },
  {
   "cell_type": "code",
   "execution_count": 150,
   "id": "9975174d",
   "metadata": {},
   "outputs": [],
   "source": [
    "lgbm = LGBMClassifier(objective=\"mutliclass\", n_estimators=1000)"
   ]
  },
  {
   "cell_type": "code",
   "execution_count": 151,
   "id": "8c7e809c",
   "metadata": {},
   "outputs": [
    {
     "data": {
      "text/plain": [
       "LGBMClassifier(n_estimators=1000, objective='mutliclass')"
      ]
     },
     "execution_count": 151,
     "metadata": {},
     "output_type": "execute_result"
    }
   ],
   "source": [
    "lgbm.fit(train_x,train_y)"
   ]
  },
  {
   "cell_type": "code",
   "execution_count": 152,
   "id": "8fa006b4",
   "metadata": {},
   "outputs": [],
   "source": [
    "pred_lgbm = lgbm.predict(test_x)"
   ]
  },
  {
   "cell_type": "code",
   "execution_count": 153,
   "id": "762a5fd3",
   "metadata": {},
   "outputs": [
    {
     "data": {
      "text/plain": [
       "0.9503105590062112"
      ]
     },
     "execution_count": 153,
     "metadata": {},
     "output_type": "execute_result"
    }
   ],
   "source": [
    "accuracy_score(test_y,pred_lgbm)"
   ]
  },
  {
   "cell_type": "code",
   "execution_count": 154,
   "id": "2f527c04",
   "metadata": {},
   "outputs": [
    {
     "data": {
      "text/plain": [
       "array([[558,  18,   0],\n",
       "       [ 14, 440,  24],\n",
       "       [  0,  16, 379]], dtype=int64)"
      ]
     },
     "execution_count": 154,
     "metadata": {},
     "output_type": "execute_result"
    }
   ],
   "source": [
    "confusion_matrix(test_y,pred_lgbm)"
   ]
  },
  {
   "cell_type": "code",
   "execution_count": 182,
   "id": "001e1ad4",
   "metadata": {},
   "outputs": [
    {
     "data": {
      "text/plain": [
       "LGBMClassifier(n_estimators=1000, objective='mutliclass')"
      ]
     },
     "execution_count": 182,
     "metadata": {},
     "output_type": "execute_result"
    }
   ],
   "source": [
    "lgbm.fit(train_df.iloc[:,:-1],train_df.iloc[:,-1])"
   ]
  },
  {
   "cell_type": "markdown",
   "id": "9bde67a2",
   "metadata": {},
   "source": [
    "#### Voting Classifier\n",
    "\n",
    "A voting Classifier is an ensemble meta-estimator that fits several base Classifiers, each on the whole dataset. Then it averages the individual predictions to form a final prediction."
   ]
  },
  {
   "cell_type": "code",
   "execution_count": 155,
   "id": "ea90ca13",
   "metadata": {},
   "outputs": [],
   "source": [
    "from sklearn.ensemble import VotingClassifier"
   ]
  },
  {
   "cell_type": "code",
   "execution_count": 156,
   "id": "3c5e54f9",
   "metadata": {},
   "outputs": [],
   "source": [
    "model_vr = VotingClassifier([('Model_DT', dt), ('Model_RF', rf), ('Model_ABC_DT', abc_dt),('Model_ABC_RF', abc_rf),('Model_XGB', xgb),('Model_LGBM', lgbm)]).fit(train_x, train_y)"
   ]
  },
  {
   "cell_type": "code",
   "execution_count": 157,
   "id": "3136c79d",
   "metadata": {},
   "outputs": [],
   "source": [
    "model_vr_pred = model_vr.predict(test_x)"
   ]
  },
  {
   "cell_type": "code",
   "execution_count": 158,
   "id": "b9127c3e",
   "metadata": {},
   "outputs": [
    {
     "data": {
      "text/plain": [
       "0.9330572808833678"
      ]
     },
     "execution_count": 158,
     "metadata": {},
     "output_type": "execute_result"
    }
   ],
   "source": [
    "accuracy_score(test_y,model_vr_pred)"
   ]
  },
  {
   "cell_type": "code",
   "execution_count": 159,
   "id": "1e631848",
   "metadata": {},
   "outputs": [
    {
     "data": {
      "text/plain": [
       "array([[560,  16,   0],\n",
       "       [ 27, 423,  28],\n",
       "       [  0,  26, 369]], dtype=int64)"
      ]
     },
     "execution_count": 159,
     "metadata": {},
     "output_type": "execute_result"
    }
   ],
   "source": [
    "confusion_matrix(test_y,model_vr_pred)"
   ]
  },
  {
   "cell_type": "markdown",
   "id": "9fe5e3a0",
   "metadata": {},
   "source": [
    "#### Bagging Classifier\n",
    "\n",
    "A Bagging Classifier is an ensemble meta-estimator that fits base Classifiers each on random subsets of the original dataset and then aggregate their individual predictions by averaging to form a final prediction. "
   ]
  },
  {
   "cell_type": "code",
   "execution_count": 160,
   "id": "9f4ac9dc",
   "metadata": {},
   "outputs": [],
   "source": [
    "from sklearn.ensemble import BaggingClassifier"
   ]
  },
  {
   "cell_type": "code",
   "execution_count": 161,
   "id": "70b21bea",
   "metadata": {},
   "outputs": [
    {
     "data": {
      "text/plain": [
       "0.927536231884058"
      ]
     },
     "execution_count": 161,
     "metadata": {},
     "output_type": "execute_result"
    }
   ],
   "source": [
    "model_br_dt = BaggingClassifier(dt).fit(train_x, train_y)\n",
    "model_br_dt_pred= model_br_dt.predict(test_x)\n",
    "accuracy_score(test_y, model_br_dt_pred)"
   ]
  },
  {
   "cell_type": "code",
   "execution_count": 162,
   "id": "941a66c3",
   "metadata": {},
   "outputs": [
    {
     "data": {
      "text/plain": [
       "array([[548,  28,   0],\n",
       "       [ 24, 422,  32],\n",
       "       [  0,  21, 374]], dtype=int64)"
      ]
     },
     "execution_count": 162,
     "metadata": {},
     "output_type": "execute_result"
    }
   ],
   "source": [
    "confusion_matrix(test_y,model_br_dt_pred)"
   ]
  },
  {
   "cell_type": "code",
   "execution_count": 163,
   "id": "18877b4d",
   "metadata": {},
   "outputs": [
    {
     "data": {
      "text/plain": [
       "0.906832298136646"
      ]
     },
     "execution_count": 163,
     "metadata": {},
     "output_type": "execute_result"
    }
   ],
   "source": [
    "model_br_rf = BaggingClassifier(rf).fit(train_x, train_y)\n",
    "model_br_rf_pred= model_br_rf.predict(test_x)\n",
    "accuracy_score(test_y, model_br_rf_pred)"
   ]
  },
  {
   "cell_type": "code",
   "execution_count": 164,
   "id": "1a5f8915",
   "metadata": {},
   "outputs": [
    {
     "data": {
      "text/plain": [
       "array([[551,  25,   0],\n",
       "       [ 43, 382,  53],\n",
       "       [  0,  14, 381]], dtype=int64)"
      ]
     },
     "execution_count": 164,
     "metadata": {},
     "output_type": "execute_result"
    }
   ],
   "source": [
    "confusion_matrix(test_y,model_br_rf_pred)"
   ]
  },
  {
   "cell_type": "code",
   "execution_count": 165,
   "id": "867d811a",
   "metadata": {},
   "outputs": [
    {
     "data": {
      "text/plain": [
       "0.8957902001380262"
      ]
     },
     "execution_count": 165,
     "metadata": {},
     "output_type": "execute_result"
    }
   ],
   "source": [
    "model_br_abc_dt = BaggingClassifier(abc_dt).fit(train_x, train_y)\n",
    "model_br_abc_dt_pred= model_br_abc_dt.predict(test_x)\n",
    "accuracy_score(test_y, model_br_abc_dt_pred)"
   ]
  },
  {
   "cell_type": "code",
   "execution_count": 166,
   "id": "cf11e3fe",
   "metadata": {},
   "outputs": [
    {
     "data": {
      "text/plain": [
       "array([[543,  33,   0],\n",
       "       [ 45, 380,  53],\n",
       "       [  0,  20, 375]], dtype=int64)"
      ]
     },
     "execution_count": 166,
     "metadata": {},
     "output_type": "execute_result"
    }
   ],
   "source": [
    "confusion_matrix(test_y,model_br_abc_dt_pred)"
   ]
  },
  {
   "cell_type": "code",
   "execution_count": 167,
   "id": "3e42ae38",
   "metadata": {},
   "outputs": [
    {
     "data": {
      "text/plain": [
       "0.906832298136646"
      ]
     },
     "execution_count": 167,
     "metadata": {},
     "output_type": "execute_result"
    }
   ],
   "source": [
    "model_br_abc_rf = BaggingClassifier(abc_rf).fit(train_x, train_y)\n",
    "model_br_abc_rf_pred= model_br_abc_rf.predict(test_x)\n",
    "accuracy_score(test_y, model_br_abc_rf_pred)"
   ]
  },
  {
   "cell_type": "code",
   "execution_count": 168,
   "id": "d7f14c02",
   "metadata": {},
   "outputs": [
    {
     "data": {
      "text/plain": [
       "array([[549,  27,   0],\n",
       "       [ 45, 386,  47],\n",
       "       [  0,  16, 379]], dtype=int64)"
      ]
     },
     "execution_count": 168,
     "metadata": {},
     "output_type": "execute_result"
    }
   ],
   "source": [
    "confusion_matrix(test_y,model_br_abc_rf_pred)"
   ]
  },
  {
   "cell_type": "code",
   "execution_count": 169,
   "id": "7c6e4bf2",
   "metadata": {},
   "outputs": [
    {
     "data": {
      "text/plain": [
       "0.9427191166321601"
      ]
     },
     "execution_count": 169,
     "metadata": {},
     "output_type": "execute_result"
    }
   ],
   "source": [
    "model_br_xgb = BaggingClassifier(xgb).fit(train_x, train_y)\n",
    "model_br_xgb_pred= model_br_xgb.predict(test_x)\n",
    "accuracy_score(test_y, model_br_xgb_pred)"
   ]
  },
  {
   "cell_type": "code",
   "execution_count": 170,
   "id": "236ce2b1",
   "metadata": {},
   "outputs": [
    {
     "data": {
      "text/plain": [
       "array([[552,  24,   0],\n",
       "       [ 17, 435,  26],\n",
       "       [  0,  16, 379]], dtype=int64)"
      ]
     },
     "execution_count": 170,
     "metadata": {},
     "output_type": "execute_result"
    }
   ],
   "source": [
    "confusion_matrix(test_y,model_br_xgb_pred)"
   ]
  },
  {
   "cell_type": "code",
   "execution_count": 171,
   "id": "6b112bab",
   "metadata": {},
   "outputs": [
    {
     "data": {
      "text/plain": [
       "0.9489302967563837"
      ]
     },
     "execution_count": 171,
     "metadata": {},
     "output_type": "execute_result"
    }
   ],
   "source": [
    "model_br_lgbm = BaggingClassifier(lgbm).fit(train_x, train_y)\n",
    "model_br_lgbm_pred= model_br_lgbm.predict(test_x)\n",
    "accuracy_score(test_y, model_br_lgbm_pred)"
   ]
  },
  {
   "cell_type": "code",
   "execution_count": 172,
   "id": "eabfa0c6",
   "metadata": {},
   "outputs": [
    {
     "data": {
      "text/plain": [
       "array([[557,  19,   0],\n",
       "       [ 17, 439,  22],\n",
       "       [  0,  16, 379]], dtype=int64)"
      ]
     },
     "execution_count": 172,
     "metadata": {},
     "output_type": "execute_result"
    }
   ],
   "source": [
    "confusion_matrix(test_y,model_br_lgbm_pred)"
   ]
  },
  {
   "cell_type": "code",
   "execution_count": null,
   "id": "a97b3682",
   "metadata": {},
   "outputs": [],
   "source": []
  },
  {
   "cell_type": "markdown",
   "id": "0a7168ea",
   "metadata": {},
   "source": [
    "#### Stacking Classifier\n",
    "\n",
    "In this strategy, some \"base estimators\" are individually fitted on some training data while a \"final estimator\" is trained using the stacked predictions of these base estimators."
   ]
  },
  {
   "cell_type": "code",
   "execution_count": 173,
   "id": "fe83a0be",
   "metadata": {},
   "outputs": [],
   "source": [
    "from sklearn.ensemble import StackingClassifier"
   ]
  },
  {
   "cell_type": "code",
   "execution_count": 223,
   "id": "31e25c25",
   "metadata": {},
   "outputs": [],
   "source": [
    "baseModels = [('Model_DT', dt), ('Model_RF', rf), ('Model_ABC_DT', abc_dt),('Model_ABC_RF', abc_rf),('Model_LGBM', lgbm)]\n",
    "finalModel = xgb"
   ]
  },
  {
   "cell_type": "code",
   "execution_count": 224,
   "id": "b2f0102a",
   "metadata": {},
   "outputs": [],
   "source": [
    "model_sr = StackingClassifier(estimators = baseModels, final_estimator = finalModel).fit(train_x, train_y)"
   ]
  },
  {
   "cell_type": "code",
   "execution_count": 225,
   "id": "05e3a6df",
   "metadata": {},
   "outputs": [],
   "source": [
    "model_sr_pred = model_sr.predict(test_x)"
   ]
  },
  {
   "cell_type": "code",
   "execution_count": 226,
   "id": "42e83c73",
   "metadata": {},
   "outputs": [
    {
     "data": {
      "text/plain": [
       "0.9620427881297446"
      ]
     },
     "execution_count": 226,
     "metadata": {},
     "output_type": "execute_result"
    }
   ],
   "source": [
    "accuracy_score(test_y,model_sr_pred)"
   ]
  },
  {
   "cell_type": "code",
   "execution_count": 227,
   "id": "725ea197",
   "metadata": {},
   "outputs": [
    {
     "data": {
      "text/plain": [
       "array([[567,   9,   0],\n",
       "       [ 16, 440,  22],\n",
       "       [  0,   8, 387]], dtype=int64)"
      ]
     },
     "execution_count": 227,
     "metadata": {},
     "output_type": "execute_result"
    }
   ],
   "source": [
    "confusion_matrix(test_y,model_sr_pred)"
   ]
  },
  {
   "cell_type": "code",
   "execution_count": 228,
   "id": "57858eba",
   "metadata": {},
   "outputs": [
    {
     "data": {
      "text/plain": [
       "StackingClassifier(estimators=[('Model_DT',\n",
       "                                DecisionTreeClassifier(class_weight='balanced',\n",
       "                                                       criterion='entropy',\n",
       "                                                       max_depth=17,\n",
       "                                                       min_samples_split=5)),\n",
       "                               ('Model_RF',\n",
       "                                RandomForestClassifier(class_weight='balanced',\n",
       "                                                       criterion='entropy',\n",
       "                                                       max_depth=16,\n",
       "                                                       n_estimators=101)),\n",
       "                               ('Model_ABC_DT',\n",
       "                                AdaBoostClassifier(base_estimator=DecisionTreeClassifier(class_weight='balance...\n",
       "                                                 grow_policy='depthwise',\n",
       "                                                 importance_type=None,\n",
       "                                                 interaction_constraints='',\n",
       "                                                 learning_rate=0.300000012,\n",
       "                                                 max_bin=256,\n",
       "                                                 max_cat_to_onehot=4,\n",
       "                                                 max_delta_step=0, max_depth=6,\n",
       "                                                 max_leaves=0,\n",
       "                                                 min_child_weight=1,\n",
       "                                                 missing=nan,\n",
       "                                                 monotone_constraints='()',\n",
       "                                                 n_estimators=1000, n_jobs=0,\n",
       "                                                 num_parallel_tree=1,\n",
       "                                                 objective='multi:softprob',\n",
       "                                                 predictor='auto',\n",
       "                                                 random_state=0, reg_alpha=0, ...))"
      ]
     },
     "execution_count": 228,
     "metadata": {},
     "output_type": "execute_result"
    }
   ],
   "source": [
    "model_sr.fit(train_df.iloc[:,:-1],train_df.Status)"
   ]
  },
  {
   "cell_type": "code",
   "execution_count": 229,
   "id": "ff2017a6",
   "metadata": {},
   "outputs": [],
   "source": [
    "pd.DataFrame({\"Interview Id\":Interview_id,\"Status\":model_sr.predict(test_df)}).replace({0:'Consider',1:'May Consider',2:'Not Consider'}).to_csv(\"C://Users/shubh/Downloads/Hackathon_Stage_2/Submission_sr3.csv\",index=False)"
   ]
  },
  {
   "cell_type": "code",
   "execution_count": null,
   "id": "d2a1b996",
   "metadata": {},
   "outputs": [],
   "source": []
  }
 ],
 "metadata": {
  "kernelspec": {
   "display_name": "Python 3 (ipykernel)",
   "language": "python",
   "name": "python3"
  },
  "language_info": {
   "codemirror_mode": {
    "name": "ipython",
    "version": 3
   },
   "file_extension": ".py",
   "mimetype": "text/x-python",
   "name": "python",
   "nbconvert_exporter": "python",
   "pygments_lexer": "ipython3",
   "version": "3.9.13"
  }
 },
 "nbformat": 4,
 "nbformat_minor": 5
}
